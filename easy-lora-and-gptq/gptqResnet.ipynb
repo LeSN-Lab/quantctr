{
 "cells": [
  {
   "cell_type": "markdown",
   "metadata": {
    "id": "0Y6JeyF45yd_"
   },
   "source": [
    "### Setup"
   ]
  },
  {
   "cell_type": "code",
   "execution_count": 1,
   "metadata": {
    "id": "75-T_R0Ms9qD"
   },
   "outputs": [
    {
     "name": "stderr",
     "output_type": "stream",
     "text": [
      "/home/jieungkim/.conda/envs/12jax/lib/python3.12/site-packages/tqdm/auto.py:21: TqdmWarning: IProgress not found. Please update jupyter and ipywidgets. See https://ipywidgets.readthedocs.io/en/stable/user_install.html\n",
      "  from .autonotebook import tqdm as notebook_tqdm\n",
      "2024-07-29 23:30:03.873580: E external/local_xla/xla/stream_executor/cuda/cuda_fft.cc:485] Unable to register cuFFT factory: Attempting to register factory for plugin cuFFT when one has already been registered\n",
      "2024-07-29 23:30:03.882279: E external/local_xla/xla/stream_executor/cuda/cuda_dnn.cc:8454] Unable to register cuDNN factory: Attempting to register factory for plugin cuDNN when one has already been registered\n",
      "2024-07-29 23:30:03.884929: E external/local_xla/xla/stream_executor/cuda/cuda_blas.cc:1452] Unable to register cuBLAS factory: Attempting to register factory for plugin cuBLAS when one has already been registered\n",
      "2024-07-29 23:30:04.337061: W tensorflow/compiler/tf2tensorrt/utils/py_utils.cc:38] TF-TRT Warning: Could not find TensorRT\n"
     ]
    }
   ],
   "source": [
    "import os, sys\n",
    "os.environ[\"XLA_PYTHON_CLIENT_PREALLOCATE\"] = \"false\"\n",
    "os.environ[\"XLA_PYTHON_CLIENT_ALLOCATOR\"] = \"platform\"\n",
    "# 아래 코드는 원하는 GPU 번호만 쓰도록 설정하는 코드\n",
    "os.environ['CUDA_VISIBLE_DEVICES'] = \"0\"\n",
    "\n",
    "from functools import partial\n",
    "import jax\n",
    "import jax.numpy as jnp\n",
    "import numpy as np\n",
    "import optax\n",
    "import transformers\n",
    "from tqdm import trange\n",
    "import tensorflow as tf\n",
    "import tensorflow_datasets as tfds\n",
    "\n",
    "import lorax\n",
    "import jax_gptq\n",
    "from torch.utils.data import DataLoader\n",
    "import torchvision.transforms as transforms\n",
    "import torchvision.datasets as datasets\n",
    "\n",
    "gpu = jax.devices('gpu')[0]\n",
    "cpu = jax.devices('cpu')[0]"
   ]
  },
  {
   "cell_type": "code",
   "execution_count": 2,
   "metadata": {
    "id": "Djyo_reAs26R"
   },
   "outputs": [
    {
     "name": "stderr",
     "output_type": "stream",
     "text": [
      "Using cache found in /home/jieungkim/.cache/torch/hub/pytorch_vision_v0.10.0\n",
      "/home/jieungkim/.conda/envs/12jax/lib/python3.12/site-packages/torchvision/models/_utils.py:208: UserWarning: The parameter 'pretrained' is deprecated since 0.13 and may be removed in the future, please use 'weights' instead.\n",
      "  warnings.warn(\n",
      "/home/jieungkim/.conda/envs/12jax/lib/python3.12/site-packages/torchvision/models/_utils.py:223: UserWarning: Arguments other than a weight enum or `None` for 'weights' are deprecated since 0.13 and may be removed in the future. The current behavior is equivalent to passing `weights=ResNet50_Weights.IMAGENET1K_V1`. You can also use `weights=ResNet50_Weights.DEFAULT` to get the most up-to-date weights.\n",
      "  warnings.warn(msg)\n"
     ]
    }
   ],
   "source": [
    "\n",
    "#/home/quantctr/jax-resnet/jax_resnet를 sys.path에 추가\n",
    "sys.path.append('/home/quantctr/jax-resnet/jax_resnet')\n",
    "# ResNet 모델 로드\n",
    "from jax_resnet.pretrained import pretrained_resnet\n",
    "\n",
    "# ResNet 크기 선택 (예: 50)\n",
    "size = 50\n",
    "model_cls, params = pretrained_resnet(size)\n",
    "params = jax.device_put(params, gpu)"
   ]
  },
  {
   "cell_type": "code",
   "execution_count": 3,
   "metadata": {
    "id": "92W8jCjQeZ9J"
   },
   "outputs": [],
   "source": [
    "\n",
    "\n",
    "\n",
    "\n",
    "def adjust_quantized_params(params):\n",
    "    # 여기서 양자화된 파라미터의 shape를 필요에 따라 조정\n",
    "    adjusted = jax.tree.map(lambda x: x if not isinstance(x, jax_gptq.QuantizedMatrix) else x.dequantize(), params)\n",
    "    # 필요한 경우, shape 조정 로직 추가\n",
    "    return adjusted\n",
    "\n",
    "# 모델 적용 함수 정의\n",
    "def apply_model(params, batch):\n",
    "    adjusted_params = adjust_quantized_params(params)\n",
    "    # print(adjusted_params.shape)\n",
    "    return model_cls().apply(adjusted_params, batch)\n"
   ]
  },
  {
   "cell_type": "code",
   "execution_count": 4,
   "metadata": {},
   "outputs": [],
   "source": [
    "\n",
    "out = model_cls().apply(params,\n",
    "                  jnp.ones((32, 224, 224, 3)),  # ImageNet sized inputs.\n",
    "                  mutable=False)  # Ensure `batch_stats` aren't updated."
   ]
  },
  {
   "cell_type": "code",
   "execution_count": 5,
   "metadata": {},
   "outputs": [
    {
     "name": "stderr",
     "output_type": "stream",
     "text": [
      "/home/jieungkim/.conda/envs/12jax/lib/python3.12/multiprocessing/popen_fork.py:66: RuntimeWarning: os.fork() was called. os.fork() is incompatible with multithreaded code, and JAX is multithreaded, so this will likely lead to a deadlock.\n",
      "  self.pid = os.fork()\n"
     ]
    }
   ],
   "source": [
    "\n",
    "\n",
    "\n",
    "# 기존 코드에서 정의된 모델, 훈련 상태 생성 함수 등은 그대로 사용\n",
    "\n",
    "def create_jax_datasets(val_dataset, batch_size):\n",
    "    val_loader = DataLoader(val_dataset, batch_size=batch_size, shuffle=False, num_workers=4)\n",
    "    \n",
    "    def numpy_collate(batch):\n",
    "        if isinstance(batch[0], np.ndarray):\n",
    "            return np.stack(batch)\n",
    "        elif isinstance(batch[0], (tuple,list)):\n",
    "            transposed = zip(*batch)\n",
    "            return [numpy_collate(samples) for samples in transposed]\n",
    "        else:\n",
    "            return np.array(batch)\n",
    "\n",
    "    def to_jax_batch(batch):\n",
    "        images, labels = batch\n",
    "        # Transpose images to (batch_size, height, width, channels)\n",
    "        images = jnp.array(images.numpy()).transpose(0, 2, 3, 1)\n",
    "\n",
    "        return {\n",
    "            'image': jnp.array(images),\n",
    "            'label': jnp.array(labels.numpy())\n",
    "        }\n",
    "\n",
    "    jax_val_dataset = map(to_jax_batch, val_loader)\n",
    "    \n",
    "    return jax_val_dataset\n",
    "\n",
    "# 데이터셋 준비\n",
    "valdir = os.path.join('/home/jieungkim/quantctr/easy-lora-and-gptq','val')\n",
    "normalize = transforms.Normalize(mean=[0.485, 0.456, 0.406],\n",
    "                                 std=[0.229, 0.224, 0.225])\n",
    "val_dataset = datasets.ImageFolder(\n",
    "    valdir,\n",
    "    transforms.Compose([\n",
    "        transforms.Resize(256),\n",
    "        transforms.CenterCrop(224),\n",
    "        transforms.ToTensor(),\n",
    "        normalize,\n",
    "    ]))\n",
    "\n",
    "# JAX 데이터셋 생성\n",
    "batch_size = 64\n",
    "jax_val_dataset = create_jax_datasets(val_dataset, batch_size)"
   ]
  },
  {
   "cell_type": "markdown",
   "metadata": {},
   "source": [
    "## 모든 레이어 비양자화"
   ]
  },
  {
   "cell_type": "code",
   "execution_count": null,
   "metadata": {},
   "outputs": [],
   "source": [
    "QUANT_BATCH_SIZE = 4 #\t•\tQUANT_BATCH_SIZE: 양자화를 위해 사용할 배치 크기입니다. 여기서는 4로 설정되어 있습니다.\n",
    "#양자화 예제의 길이입니다. 각 예제는 64개의 토큰으로 구성됩니다. 이 값을 더 크게 설정할 수 있지만, Colab에서 메모리 충돌을 방지하기 위해 작은 값으로 설정되었습니다\n",
    "QUANT_EXAMPLE_LENGTH = 64 # I'd recommend making this bigger, but needs to be small to not crash colab\n",
    "\n",
    "quantization_data = []\n",
    "key = jax.random.PRNGKey(0) #JAX의 랜덤 키를 초기화합니다. 랜덤 키는 재현 가능한 무작위 값을 생성하는 데 사용됩니다.\n",
    "for batch in jax_val_dataset:\n",
    "    # 배치 데이터 추출\n",
    "    images = batch['image']\n",
    "    \n",
    "    labels = batch['label']\n",
    "    \n",
    "    # GPU로 배치 이동\n",
    "    images = jax.device_put(images, gpu)\n",
    "    quantization_data.append(images) #quantization_data.append(batch): 생성된 배치를 양자화 데이터 리스트에 추가합니다.\n",
    "    if len(quantization_data) > 8:\n",
    "      break\n",
    "\n",
    "# params = jax.device_put(params, gpu)\n",
    "# print(type((quantization_data[0])))\n",
    "# params = jax.device_put(params, gpu)\n",
    "# print(type((quantization_data[0])))\n",
    "#양자화하지 않을 레이어 설정\n",
    "\n",
    "exclude_layers = [\n",
    "    r\"a:f32\\[64,56,56,64\\].*conv_general_dilated.*\",\n",
    "    r\"a:f32\\[64,56,56,256\\].*conv_general_dilated.*\",\n",
    "    r\"a:f32\\[64,56,56,128\\].*conv_general_dilated.*\",\n",
    "    r\"a:f32\\[64,28,28,512\\].*conv_general_dilated.*\",\n",
    "    r\"a:f32\\[64,28,28,128\\].*conv_general_dilated.*\",\n",
    "    r\"a:f32\\[64,28,28,256\\].*conv_general_dilated.*\",\n",
    "    r\"a:f32\\[64,14,14,1024\\].*conv_general_dilated.*\",\n",
    "    r\"a:f32\\[64,14,14,256\\].*conv_general_dilated.*\",\n",
    "    r\"a:f32\\[64,14,14,512\\].*conv_general_dilated.*\",\n",
    "    r\"a:f32\\[64,7,7,2048\\].*conv_general_dilated.*\",\n",
    "    r\"a:f32\\[64,7,7,512\\].*conv_general_dilated.*\",\n",
    "    r\"a:f32\\[64,1000\\].*dot_general.*\"\n",
    "]\n",
    "# exclude_layers = []\n",
    "quantized_params = jax_gptq.quantize(apply_model, params, quantization_data, block_size=64, exclude_layers=exclude_layers)\n",
    "\n",
    "\n",
    "# 양자화된 파라미터 구조 확인\n",
    "print(jax.tree.map(lambda x: x.shape if hasattr(x, 'shape') else None, quantized_params))"
   ]
  },
  {
   "cell_type": "markdown",
   "metadata": {},
   "source": [
    "## (baseline) 양자화하지 않은 params 사용하여 이미지넷 데이터셋 Resnet50 추론 테스트"
   ]
  },
  {
   "cell_type": "code",
   "execution_count": 7,
   "metadata": {},
   "outputs": [
    {
     "name": "stdout",
     "output_type": "stream",
     "text": [
      "(64, 224, 224, 3)\n",
      "Batch 1 processed, Batch Accuracy: 0.9844, Total samples: 64\n",
      "(64, 224, 224, 3)\n",
      "Batch 2 processed, Batch Accuracy: 0.9219, Total samples: 128\n",
      "(64, 224, 224, 3)\n",
      "Batch 3 processed, Batch Accuracy: 0.9531, Total samples: 192\n",
      "(64, 224, 224, 3)\n",
      "Batch 4 processed, Batch Accuracy: 0.8750, Total samples: 256\n",
      "(64, 224, 224, 3)\n",
      "Batch 5 processed, Batch Accuracy: 0.9375, Total samples: 320\n",
      "(64, 224, 224, 3)\n",
      "Batch 6 processed, Batch Accuracy: 0.9688, Total samples: 384\n",
      "(64, 224, 224, 3)\n",
      "Batch 7 processed, Batch Accuracy: 0.8594, Total samples: 448\n",
      "(64, 224, 224, 3)\n",
      "Batch 8 processed, Batch Accuracy: 0.9062, Total samples: 512\n",
      "(64, 224, 224, 3)\n",
      "Batch 9 processed, Batch Accuracy: 0.9531, Total samples: 576\n",
      "(64, 224, 224, 3)\n",
      "Batch 10 processed, Batch Accuracy: 0.9375, Total samples: 640\n",
      "\n",
      "Inference completed\n",
      "Overall Accuracy: 0.9297\n"
     ]
    }
   ],
   "source": [
    "from PIL import Image\n",
    "\n",
    "\n",
    "batch_size = 32\n",
    "\n",
    "# TensorFlow 데이터셋을 NumPy 배열로 변환\n",
    "jax_val_dataset\n",
    "\n",
    "batch_count = 0\n",
    "total_processed = 0\n",
    "\n",
    "total_correct = 0\n",
    "total_samples = 0\n",
    "\n",
    "for batch in jax_val_dataset:\n",
    "    # 배치 데이터 추출\n",
    "    images = batch['image']\n",
    "    \n",
    "    labels = batch['label']\n",
    "    \n",
    "    # GPU로 배치 이동\n",
    "    images = jax.device_put(images, gpu)\n",
    "    \n",
    "    print(images.shape)\n",
    "    # print(len(params[\"params\"], len()))\n",
    "    # 모델 적용\n",
    "    outputs = apply_model(params, images)\n",
    "    \n",
    "     # 예측 클래스 계산\n",
    "    predicted_classes = jnp.argmax(outputs, axis=1)\n",
    "    \n",
    "    # 정확도 계산\n",
    "    correct_predictions = jnp.sum(predicted_classes == labels)\n",
    "    total_correct += correct_predictions\n",
    "    total_samples += labels.shape[0]\n",
    "    \n",
    "    # 배치 정확도 계산\n",
    "    batch_accuracy = correct_predictions / labels.shape[0]\n",
    "    \n",
    "    batch_count += 1\n",
    "    print(f\"Batch {batch_count} processed, Batch Accuracy: {batch_accuracy:.4f}, Total samples: {total_samples}\")\n",
    "\n",
    "    #옵션: 특정 수의 배치 후에 중단\n",
    "    if batch_count >= 10:\n",
    "        break\n",
    "\n",
    "# 전체 정확도 계산\n",
    "overall_accuracy = total_correct / total_samples\n",
    "print(f\"\\nInference completed\")\n",
    "print(f\"Overall Accuracy: {overall_accuracy:.4f}\")"
   ]
  },
  {
   "cell_type": "markdown",
   "metadata": {},
   "source": [
    "## 모든 레이어를 jax-gptq를 이용해 모든 레이어를 선택적으로 비양자화한 Resnet50 모델 추론"
   ]
  },
  {
   "cell_type": "code",
   "execution_count": 8,
   "metadata": {},
   "outputs": [
    {
     "name": "stdout",
     "output_type": "stream",
     "text": [
      "(64, 224, 224, 3)\n",
      "Batch 1 processed, Batch Accuracy: 0.8438, Total samples: 64\n",
      "(64, 224, 224, 3)\n",
      "Batch 2 processed, Batch Accuracy: 0.7344, Total samples: 128\n",
      "(64, 224, 224, 3)\n",
      "Batch 3 processed, Batch Accuracy: 0.9531, Total samples: 192\n",
      "(64, 224, 224, 3)\n",
      "Batch 4 processed, Batch Accuracy: 0.8906, Total samples: 256\n",
      "(64, 224, 224, 3)\n",
      "Batch 5 processed, Batch Accuracy: 0.9062, Total samples: 320\n",
      "(64, 224, 224, 3)\n",
      "Batch 6 processed, Batch Accuracy: 0.6406, Total samples: 384\n",
      "(64, 224, 224, 3)\n",
      "Batch 7 processed, Batch Accuracy: 0.6406, Total samples: 448\n",
      "(64, 224, 224, 3)\n",
      "Batch 8 processed, Batch Accuracy: 0.6406, Total samples: 512\n",
      "(64, 224, 224, 3)\n",
      "Batch 9 processed, Batch Accuracy: 0.6250, Total samples: 576\n",
      "(64, 224, 224, 3)\n",
      "Batch 10 processed, Batch Accuracy: 0.8750, Total samples: 640\n",
      "\n",
      "Inference completed\n",
      "Overall Accuracy: 0.7750\n"
     ]
    }
   ],
   "source": [
    "quantized_params = jax.device_put(quantized_params, gpu)\n",
    "quantized_fn = jax_gptq.use_quantized(apply_model)\n",
    "jitted_model = jax.jit(quantized_fn)\n",
    "\n",
    "\n",
    "\n",
    "\n",
    "batch_size = 32\n",
    "\n",
    "# TensorFlow 데이터셋을 NumPy 배열로 변환\n",
    "jax_val_dataset\n",
    "\n",
    "batch_count = 0\n",
    "total_processed = 0\n",
    "\n",
    "total_correct = 0\n",
    "total_samples = 0\n",
    "\n",
    "for batch in jax_val_dataset:\n",
    "    # 배치 데이터 추출\n",
    "    images = batch['image']\n",
    "    \n",
    "    labels = batch['label']\n",
    "    \n",
    "    # GPU로 배치 이동\n",
    "    images = jax.device_put(images, gpu)\n",
    "    \n",
    "    print(images.shape)\n",
    "    # print(len(params[\"params\"], len()))\n",
    "    # 모델 적용\n",
    "    outputs = jitted_model(quantized_params, images)\n",
    "    \n",
    "     # 예측 클래스 계산\n",
    "    predicted_classes = jnp.argmax(outputs, axis=1)\n",
    "    \n",
    "    # 정확도 계산\n",
    "    correct_predictions = jnp.sum(predicted_classes == labels)\n",
    "    total_correct += correct_predictions\n",
    "    total_samples += labels.shape[0]\n",
    "    \n",
    "    # 배치 정확도 계산\n",
    "    batch_accuracy = correct_predictions / labels.shape[0]\n",
    "    \n",
    "    batch_count += 1\n",
    "    print(f\"Batch {batch_count} processed, Batch Accuracy: {batch_accuracy:.4f}, Total samples: {total_samples}\")\n",
    "\n",
    "    #옵션: 특정 수의 배치 후에 중단\n",
    "    if batch_count >= 10:\n",
    "        break\n",
    "\n",
    "# 전체 정확도 계산\n",
    "overall_accuracy = total_correct / total_samples\n",
    "print(f\"\\nInference completed\")\n",
    "print(f\"Overall Accuracy: {overall_accuracy:.4f}\")"
   ]
  },
  {
   "cell_type": "markdown",
   "metadata": {},
   "source": [
    "### 파라미터 크기 비교"
   ]
  },
  {
   "cell_type": "code",
   "execution_count": 9,
   "metadata": {},
   "outputs": [
    {
     "name": "stdout",
     "output_type": "stream",
     "text": [
      "Original params size: 102.44 MB\n",
      "Quantized params size: 102.60 MB\n",
      "Compression ratio: 1.00x\n"
     ]
    }
   ],
   "source": [
    "import jax.numpy as jnp\n",
    "\n",
    "def get_params_size(params):\n",
    "    total_size = 0\n",
    "    for param in jax.tree_util.tree_leaves(params):\n",
    "        total_size += param.size * param.dtype.itemsize\n",
    "    return total_size\n",
    "\n",
    "original_size = get_params_size(params)\n",
    "quantized_size = get_params_size(quantized_params)\n",
    "\n",
    "print(f\"Original params size: {original_size / 1e6:.2f} MB\")\n",
    "print(f\"Quantized params size: {quantized_size / 1e6:.2f} MB\")\n",
    "print(f\"Compression ratio: {original_size / quantized_size:.2f}x\")"
   ]
  },
  {
   "cell_type": "markdown",
   "metadata": {},
   "source": [
    "### 추론 속도 비교"
   ]
  },
  {
   "cell_type": "code",
   "execution_count": 10,
   "metadata": {},
   "outputs": [
    {
     "name": "stdout",
     "output_type": "stream",
     "text": [
      "Original model average inference time: 93.73 ms\n",
      "Quantized model average inference time: 97.47 ms\n",
      "Speedup: 0.96x\n"
     ]
    }
   ],
   "source": [
    "import time\n",
    "import jax\n",
    "import jax.numpy as jnp\n",
    "\n",
    "def time_inference(model_fn, params, input_data, num_runs=100):\n",
    "    # 워밍업 실행\n",
    "    for _ in range(5):\n",
    "        _ = model_fn(params, input_data)\n",
    "    \n",
    "    # 메인 타이밍 루프\n",
    "    start_time = time.time()\n",
    "    for _ in range(num_runs):\n",
    "        _ = model_fn(params, input_data)\n",
    "    end_time = time.time()\n",
    "    \n",
    "    avg_time = (end_time - start_time) / num_runs\n",
    "    return avg_time\n",
    "\n",
    "# 샘플 입력 데이터 준비\n",
    "sample_batch = next(iter(jax_val_dataset))\n",
    "sample_images = jax.device_put(sample_batch['image'], gpu)\n",
    "\n",
    "# 원본 모델 함수\n",
    "original_fn = jax.jit(apply_model)\n",
    "\n",
    "# 양자화된 모델 함수\n",
    "quantized_fn = jax.jit(jax_gptq.use_quantized(apply_model))\n",
    "\n",
    "# 원본 모델 추론 시간 측정\n",
    "original_time = time_inference(original_fn, params, sample_images)\n",
    "\n",
    "# 양자화된 모델 추론 시간 측정\n",
    "quantized_time = time_inference(quantized_fn, quantized_params, sample_images)\n",
    "\n",
    "print(f\"Original model average inference time: {original_time*1000:.2f} ms\")\n",
    "print(f\"Quantized model average inference time: {quantized_time*1000:.2f} ms\")\n",
    "print(f\"Speedup: {original_time/quantized_time:.2f}x\")"
   ]
  },
  {
   "cell_type": "markdown",
   "metadata": {},
   "source": [
    "\n",
    "## jax-gptq를 이용해 선택적으로 2개를 양자화한 Resnet50 모델 추론"
   ]
  },
  {
   "cell_type": "code",
   "execution_count": null,
   "metadata": {},
   "outputs": [],
   "source": [
    "QUANT_BATCH_SIZE = 4 #\t•\tQUANT_BATCH_SIZE: 양자화를 위해 사용할 배치 크기입니다. 여기서는 4로 설정되어 있습니다.\n",
    "#양자화 예제의 길이입니다. 각 예제는 64개의 토큰으로 구성됩니다. 이 값을 더 크게 설정할 수 있지만, Colab에서 메모리 충돌을 방지하기 위해 작은 값으로 설정되었습니다\n",
    "QUANT_EXAMPLE_LENGTH = 64 # I'd recommend making this bigger, but needs to be small to not crash colab\n",
    "\n",
    "quantization_data = []\n",
    "key = jax.random.PRNGKey(0) #JAX의 랜덤 키를 초기화합니다. 랜덤 키는 재현 가능한 무작위 값을 생성하는 데 사용됩니다.\n",
    "for batch in jax_val_dataset:\n",
    "    # 배치 데이터 추출\n",
    "    images = batch['image']\n",
    "    \n",
    "    labels = batch['label']\n",
    "    \n",
    "    # GPU로 배치 이동\n",
    "    images = jax.device_put(images, gpu)\n",
    "    quantization_data.append(images) #quantization_data.append(batch): 생성된 배치를 양자화 데이터 리스트에 추가합니다.\n",
    "    if len(quantization_data) > 8:\n",
    "      break\n",
    "\n",
    "# params = jax.device_put(params, gpu)\n",
    "# print(type((quantization_data[0])))\n",
    "# params = jax.device_put(params, gpu)\n",
    "# print(type((quantization_data[0])))\n",
    "#양자화하지 않을 레이어 설정\n",
    "\n",
    "exclude_layers = [\n",
    "    r\"a:f32\\[64,56,56,64\\].*conv_general_dilated.*\",\n",
    "    r\"a:f32\\[64,56,56,256\\].*conv_general_dilated.*\",\n",
    "    r\"a:f32\\[64,56,56,128\\].*conv_general_dilated.*\",\n",
    "    r\"a:f32\\[64,28,28,512\\].*conv_general_dilated.*\",\n",
    "    r\"a:f32\\[64,28,28,128\\].*conv_general_dilated.*\",\n",
    "    r\"a:f32\\[64,28,28,256\\].*conv_general_dilated.*\",\n",
    "    r\"a:f32\\[64,14,14,1024\\].*conv_general_dilated.*\",\n",
    "    r\"a:f32\\[64,14,14,256\\].*conv_general_dilated.*\",\n",
    "    r\"a:f32\\[64,14,14,512\\].*conv_general_dilated.*\",\n",
    "    r\"a:f32\\[64,7,7,2048\\].*conv_general_dilated.*\",\n",
    "    # r\"a:f32\\[64,7,7,512\\].*conv_general_dilated.*\",\n",
    "    # r\"a:f32\\[64,1000\\].*dot_general.*\"\n",
    "]\n",
    "# exclude_layers = []\n",
    "quantized_params = jax_gptq.quantize(apply_model, params, quantization_data, block_size=64, exclude_layers=exclude_layers)\n",
    "\n",
    "\n",
    "# 양자화된 파라미터 구조 확인\n",
    "print(jax.tree.map(lambda x: x.shape if hasattr(x, 'shape') else None, quantized_params))"
   ]
  },
  {
   "cell_type": "code",
   "execution_count": 12,
   "metadata": {},
   "outputs": [
    {
     "name": "stdout",
     "output_type": "stream",
     "text": [
      "(64, 224, 224, 3)\n",
      "Batch 1 processed, Batch Accuracy: 0.8594, Total samples: 64\n",
      "(64, 224, 224, 3)\n",
      "Batch 2 processed, Batch Accuracy: 0.7188, Total samples: 128\n",
      "(64, 224, 224, 3)\n",
      "Batch 3 processed, Batch Accuracy: 0.6719, Total samples: 192\n",
      "(64, 224, 224, 3)\n",
      "Batch 4 processed, Batch Accuracy: 0.8281, Total samples: 256\n",
      "(64, 224, 224, 3)\n",
      "Batch 5 processed, Batch Accuracy: 0.7812, Total samples: 320\n",
      "(64, 224, 224, 3)\n",
      "Batch 6 processed, Batch Accuracy: 0.7812, Total samples: 384\n",
      "(64, 224, 224, 3)\n",
      "Batch 7 processed, Batch Accuracy: 0.4688, Total samples: 448\n",
      "(64, 224, 224, 3)\n",
      "Batch 8 processed, Batch Accuracy: 0.7656, Total samples: 512\n",
      "(64, 224, 224, 3)\n",
      "Batch 9 processed, Batch Accuracy: 0.6875, Total samples: 576\n",
      "(64, 224, 224, 3)\n",
      "Batch 10 processed, Batch Accuracy: 0.7656, Total samples: 640\n",
      "\n",
      "Inference completed\n",
      "Overall Accuracy: 0.7328\n"
     ]
    }
   ],
   "source": [
    "quantized_params = jax.device_put(quantized_params, gpu)\n",
    "quantized_fn = jax_gptq.use_quantized(apply_model)\n",
    "jitted_model = jax.jit(quantized_fn)\n",
    "\n",
    "\n",
    "\n",
    "\n",
    "batch_size = 32\n",
    "\n",
    "# TensorFlow 데이터셋을 NumPy 배열로 변환\n",
    "jax_val_dataset\n",
    "\n",
    "batch_count = 0\n",
    "total_processed = 0\n",
    "\n",
    "total_correct = 0\n",
    "total_samples = 0\n",
    "\n",
    "for batch in jax_val_dataset:\n",
    "    # 배치 데이터 추출\n",
    "    images = batch['image']\n",
    "    \n",
    "    labels = batch['label']\n",
    "    \n",
    "    # GPU로 배치 이동\n",
    "    images = jax.device_put(images, gpu)\n",
    "    \n",
    "    print(images.shape)\n",
    "    # print(len(params[\"params\"], len()))\n",
    "    # 모델 적용\n",
    "    outputs = jitted_model(quantized_params, images)\n",
    "    \n",
    "     # 예측 클래스 계산\n",
    "    predicted_classes = jnp.argmax(outputs, axis=1)\n",
    "    \n",
    "    # 정확도 계산\n",
    "    correct_predictions = jnp.sum(predicted_classes == labels)\n",
    "    total_correct += correct_predictions\n",
    "    total_samples += labels.shape[0]\n",
    "    \n",
    "    # 배치 정확도 계산\n",
    "    batch_accuracy = correct_predictions / labels.shape[0]\n",
    "    \n",
    "    batch_count += 1\n",
    "    print(f\"Batch {batch_count} processed, Batch Accuracy: {batch_accuracy:.4f}, Total samples: {total_samples}\")\n",
    "\n",
    "    #옵션: 특정 수의 배치 후에 중단\n",
    "    if batch_count >= 10:\n",
    "        break\n",
    "\n",
    "# 전체 정확도 계산\n",
    "overall_accuracy = total_correct / total_samples\n",
    "print(f\"\\nInference completed\")\n",
    "print(f\"Overall Accuracy: {overall_accuracy:.4f}\")"
   ]
  },
  {
   "cell_type": "markdown",
   "metadata": {},
   "source": [
    "### 파라미터 크기 비교"
   ]
  },
  {
   "cell_type": "code",
   "execution_count": 13,
   "metadata": {},
   "outputs": [
    {
     "name": "stdout",
     "output_type": "stream",
     "text": [
      "Original params size: 102.44 MB\n",
      "Quantized params size: 88.09 MB\n",
      "Compression ratio: 1.16x\n"
     ]
    }
   ],
   "source": [
    "import jax.numpy as jnp\n",
    "\n",
    "def get_params_size(params):\n",
    "    total_size = 0\n",
    "    for param in jax.tree_util.tree_leaves(params):\n",
    "        total_size += param.size * param.dtype.itemsize\n",
    "    return total_size\n",
    "\n",
    "original_size = get_params_size(params)\n",
    "quantized_size = get_params_size(quantized_params)\n",
    "\n",
    "print(f\"Original params size: {original_size / 1e6:.2f} MB\")\n",
    "print(f\"Quantized params size: {quantized_size / 1e6:.2f} MB\")\n",
    "print(f\"Compression ratio: {original_size / quantized_size:.2f}x\")"
   ]
  },
  {
   "cell_type": "markdown",
   "metadata": {},
   "source": [
    "### 추론 속도 비교"
   ]
  },
  {
   "cell_type": "code",
   "execution_count": 14,
   "metadata": {},
   "outputs": [
    {
     "name": "stdout",
     "output_type": "stream",
     "text": [
      "Original model average inference time: 95.72 ms\n",
      "Quantized model average inference time: 96.75 ms\n",
      "Speedup: 0.99x\n"
     ]
    }
   ],
   "source": [
    "import time\n",
    "import jax\n",
    "import jax.numpy as jnp\n",
    "\n",
    "def time_inference(model_fn, params, input_data, num_runs=100):\n",
    "    # 워밍업 실행\n",
    "    for _ in range(5):\n",
    "        _ = model_fn(params, input_data)\n",
    "    \n",
    "    # 메인 타이밍 루프\n",
    "    start_time = time.time()\n",
    "    for _ in range(num_runs):\n",
    "        _ = model_fn(params, input_data)\n",
    "    end_time = time.time()\n",
    "    \n",
    "    avg_time = (end_time - start_time) / num_runs\n",
    "    return avg_time\n",
    "\n",
    "# 샘플 입력 데이터 준비\n",
    "sample_batch = next(iter(jax_val_dataset))\n",
    "sample_images = jax.device_put(sample_batch['image'], gpu)\n",
    "\n",
    "# 원본 모델 함수\n",
    "original_fn = jax.jit(apply_model)\n",
    "\n",
    "# 양자화된 모델 함수\n",
    "quantized_fn = jax.jit(jax_gptq.use_quantized(apply_model))\n",
    "\n",
    "# 원본 모델 추론 시간 측정\n",
    "original_time = time_inference(original_fn, params, sample_images)\n",
    "\n",
    "# 양자화된 모델 추론 시간 측정\n",
    "quantized_time = time_inference(quantized_fn, quantized_params, sample_images)\n",
    "\n",
    "print(f\"Original model average inference time: {original_time*1000:.2f} ms\")\n",
    "print(f\"Quantized model average inference time: {quantized_time*1000:.2f} ms\")\n",
    "print(f\"Speedup: {original_time/quantized_time:.2f}x\")"
   ]
  },
  {
   "cell_type": "code",
   "execution_count": null,
   "metadata": {},
   "outputs": [],
   "source": []
  },
  {
   "cell_type": "markdown",
   "metadata": {},
   "source": [
    "\n",
    "## jax-gptq를 이용해 선택적으로 6개를 양자화한 Resnet50 모델 추론"
   ]
  },
  {
   "cell_type": "code",
   "execution_count": null,
   "metadata": {},
   "outputs": [],
   "source": [
    "QUANT_BATCH_SIZE = 4 #\t•\tQUANT_BATCH_SIZE: 양자화를 위해 사용할 배치 크기입니다. 여기서는 4로 설정되어 있습니다.\n",
    "#양자화 예제의 길이입니다. 각 예제는 64개의 토큰으로 구성됩니다. 이 값을 더 크게 설정할 수 있지만, Colab에서 메모리 충돌을 방지하기 위해 작은 값으로 설정되었습니다\n",
    "QUANT_EXAMPLE_LENGTH = 64 # I'd recommend making this bigger, but needs to be small to not crash colab\n",
    "\n",
    "quantization_data = []\n",
    "key = jax.random.PRNGKey(0) #JAX의 랜덤 키를 초기화합니다. 랜덤 키는 재현 가능한 무작위 값을 생성하는 데 사용됩니다.\n",
    "for batch in jax_val_dataset:\n",
    "    # 배치 데이터 추출\n",
    "    images = batch['image']\n",
    "    \n",
    "    labels = batch['label']\n",
    "    \n",
    "    # GPU로 배치 이동\n",
    "    images = jax.device_put(images, gpu)\n",
    "    quantization_data.append(images) #quantization_data.append(batch): 생성된 배치를 양자화 데이터 리스트에 추가합니다.\n",
    "    if len(quantization_data) > 8:\n",
    "      break\n",
    "\n",
    "# params = jax.device_put(params, gpu)\n",
    "# print(type((quantization_data[0])))\n",
    "# params = jax.device_put(params, gpu)\n",
    "# print(type((quantization_data[0])))\n",
    "#양자화하지 않을 레이어 설정\n",
    "\n",
    "exclude_layers = [\n",
    "    r\"a:f32\\[64,56,56,64\\].*conv_general_dilated.*\",\n",
    "    r\"a:f32\\[64,56,56,256\\].*conv_general_dilated.*\",\n",
    "    r\"a:f32\\[64,56,56,128\\].*conv_general_dilated.*\",\n",
    "    r\"a:f32\\[64,28,28,512\\].*conv_general_dilated.*\",\n",
    "    r\"a:f32\\[64,28,28,128\\].*conv_general_dilated.*\",\n",
    "    r\"a:f32\\[64,28,28,256\\].*conv_general_dilated.*\",\n",
    "    # r\"a:f32\\[64,14,14,1024\\].*conv_general_dilated.*\",\n",
    "    # r\"a:f32\\[64,14,14,256\\].*conv_general_dilated.*\",\n",
    "    # r\"a:f32\\[64,14,14,512\\].*conv_general_dilated.*\",\n",
    "    # r\"a:f32\\[64,7,7,2048\\].*conv_general_dilated.*\",\n",
    "    # r\"a:f32\\[64,7,7,512\\].*conv_general_dilated.*\",\n",
    "    # r\"a:f32\\[64,1000\\].*dot_general.*\"\n",
    "]\n",
    "# exclude_layers = []\n",
    "quantized_params = jax_gptq.quantize(apply_model, params, quantization_data, block_size=64, exclude_layers=exclude_layers)\n",
    "\n",
    "\n",
    "# 양자화된 파라미터 구조 확인\n",
    "# print(jax.tree.map(lambda x: x.shape if hasattr(x, 'shape') else None, quantized_params))"
   ]
  },
  {
   "cell_type": "code",
   "execution_count": 16,
   "metadata": {},
   "outputs": [
    {
     "name": "stdout",
     "output_type": "stream",
     "text": [
      "(64, 224, 224, 3)\n",
      "Batch 1 processed, Batch Accuracy: 0.8594, Total samples: 64\n",
      "(64, 224, 224, 3)\n",
      "Batch 2 processed, Batch Accuracy: 0.8438, Total samples: 128\n",
      "(64, 224, 224, 3)\n",
      "Batch 3 processed, Batch Accuracy: 0.8125, Total samples: 192\n",
      "(64, 224, 224, 3)\n",
      "Batch 4 processed, Batch Accuracy: 0.9688, Total samples: 256\n",
      "(64, 224, 224, 3)\n",
      "Batch 5 processed, Batch Accuracy: 0.9219, Total samples: 320\n",
      "(64, 224, 224, 3)\n",
      "Batch 6 processed, Batch Accuracy: 0.9375, Total samples: 384\n",
      "(64, 224, 224, 3)\n",
      "Batch 7 processed, Batch Accuracy: 0.8906, Total samples: 448\n",
      "(64, 224, 224, 3)\n",
      "Batch 8 processed, Batch Accuracy: 0.9375, Total samples: 512\n",
      "(64, 224, 224, 3)\n",
      "Batch 9 processed, Batch Accuracy: 0.9688, Total samples: 576\n",
      "(64, 224, 224, 3)\n",
      "Batch 10 processed, Batch Accuracy: 0.9062, Total samples: 640\n",
      "\n",
      "Inference completed\n",
      "Overall Accuracy: 0.9047\n"
     ]
    }
   ],
   "source": [
    "quantized_params = jax.device_put(quantized_params, gpu)\n",
    "quantized_fn = jax_gptq.use_quantized(apply_model)\n",
    "jitted_model = jax.jit(quantized_fn)\n",
    "\n",
    "\n",
    "\n",
    "\n",
    "batch_size = 32\n",
    "\n",
    "# TensorFlow 데이터셋을 NumPy 배열로 변환\n",
    "jax_val_dataset\n",
    "\n",
    "batch_count = 0\n",
    "total_processed = 0\n",
    "\n",
    "total_correct = 0\n",
    "total_samples = 0\n",
    "\n",
    "for batch in jax_val_dataset:\n",
    "    # 배치 데이터 추출\n",
    "    images = batch['image']\n",
    "    \n",
    "    labels = batch['label']\n",
    "    \n",
    "    # GPU로 배치 이동\n",
    "    images = jax.device_put(images, gpu)\n",
    "    \n",
    "    print(images.shape)\n",
    "    # print(len(params[\"params\"], len()))\n",
    "    # 모델 적용\n",
    "    outputs = jitted_model(quantized_params, images)\n",
    "    \n",
    "     # 예측 클래스 계산\n",
    "    predicted_classes = jnp.argmax(outputs, axis=1)\n",
    "    \n",
    "    # 정확도 계산\n",
    "    correct_predictions = jnp.sum(predicted_classes == labels)\n",
    "    total_correct += correct_predictions\n",
    "    total_samples += labels.shape[0]\n",
    "    \n",
    "    # 배치 정확도 계산\n",
    "    batch_accuracy = correct_predictions / labels.shape[0]\n",
    "    \n",
    "    batch_count += 1\n",
    "    print(f\"Batch {batch_count} processed, Batch Accuracy: {batch_accuracy:.4f}, Total samples: {total_samples}\")\n",
    "\n",
    "    #옵션: 특정 수의 배치 후에 중단\n",
    "    if batch_count >= 10:\n",
    "        break\n",
    "\n",
    "# 전체 정확도 계산\n",
    "overall_accuracy = total_correct / total_samples\n",
    "print(f\"\\nInference completed\")\n",
    "print(f\"Overall Accuracy: {overall_accuracy:.4f}\")"
   ]
  },
  {
   "cell_type": "markdown",
   "metadata": {},
   "source": [
    "### 파라미터 크기 비교"
   ]
  },
  {
   "cell_type": "code",
   "execution_count": 17,
   "metadata": {},
   "outputs": [
    {
     "name": "stdout",
     "output_type": "stream",
     "text": [
      "Original params size: 102.44 MB\n",
      "Quantized params size: 65.16 MB\n",
      "Compression ratio: 1.57x\n"
     ]
    }
   ],
   "source": [
    "import jax.numpy as jnp\n",
    "\n",
    "def get_params_size(params):\n",
    "    total_size = 0\n",
    "    for param in jax.tree_util.tree_leaves(params):\n",
    "        total_size += param.size * param.dtype.itemsize\n",
    "    return total_size\n",
    "\n",
    "original_size = get_params_size(params)\n",
    "quantized_size = get_params_size(quantized_params)\n",
    "\n",
    "print(f\"Original params size: {original_size / 1e6:.2f} MB\")\n",
    "print(f\"Quantized params size: {quantized_size / 1e6:.2f} MB\")\n",
    "print(f\"Compression ratio: {original_size / quantized_size:.2f}x\")"
   ]
  },
  {
   "cell_type": "markdown",
   "metadata": {},
   "source": [
    "### 추론 속도 비교"
   ]
  },
  {
   "cell_type": "code",
   "execution_count": 18,
   "metadata": {},
   "outputs": [
    {
     "name": "stdout",
     "output_type": "stream",
     "text": [
      "Original model average inference time: 96.24 ms\n",
      "Quantized model average inference time: 94.99 ms\n",
      "Speedup: 1.01x\n"
     ]
    }
   ],
   "source": [
    "import time\n",
    "import jax\n",
    "import jax.numpy as jnp\n",
    "\n",
    "def time_inference(model_fn, params, input_data, num_runs=100):\n",
    "    # 워밍업 실행\n",
    "    for _ in range(5):\n",
    "        _ = model_fn(params, input_data)\n",
    "    \n",
    "    # 메인 타이밍 루프\n",
    "    start_time = time.time()\n",
    "    for _ in range(num_runs):\n",
    "        _ = model_fn(params, input_data)\n",
    "    end_time = time.time()\n",
    "    \n",
    "    avg_time = (end_time - start_time) / num_runs\n",
    "    return avg_time\n",
    "\n",
    "# 샘플 입력 데이터 준비\n",
    "sample_batch = next(iter(jax_val_dataset))\n",
    "sample_images = jax.device_put(sample_batch['image'], gpu)\n",
    "\n",
    "# 원본 모델 함수\n",
    "original_fn = jax.jit(apply_model)\n",
    "\n",
    "# 양자화된 모델 함수\n",
    "quantized_fn = jax.jit(jax_gptq.use_quantized(apply_model))\n",
    "\n",
    "# 원본 모델 추론 시간 측정\n",
    "original_time = time_inference(original_fn, params, sample_images)\n",
    "\n",
    "# 양자화된 모델 추론 시간 측정\n",
    "quantized_time = time_inference(quantized_fn, quantized_params, sample_images)\n",
    "\n",
    "print(f\"Original model average inference time: {original_time*1000:.2f} ms\")\n",
    "print(f\"Quantized model average inference time: {quantized_time*1000:.2f} ms\")\n",
    "print(f\"Speedup: {original_time/quantized_time:.2f}x\")"
   ]
  },
  {
   "cell_type": "code",
   "execution_count": null,
   "metadata": {},
   "outputs": [],
   "source": []
  },
  {
   "cell_type": "markdown",
   "metadata": {},
   "source": [
    "\n",
    "## jax-gptq를 이용해 모든 레이어를 양자화한 Resnet50 모델 추론"
   ]
  },
  {
   "cell_type": "code",
   "execution_count": null,
   "metadata": {},
   "outputs": [],
   "source": [
    "QUANT_BATCH_SIZE = 4 #\t•\tQUANT_BATCH_SIZE: 양자화를 위해 사용할 배치 크기입니다. 여기서는 4로 설정되어 있습니다.\n",
    "#양자화 예제의 길이입니다. 각 예제는 64개의 토큰으로 구성됩니다. 이 값을 더 크게 설정할 수 있지만, Colab에서 메모리 충돌을 방지하기 위해 작은 값으로 설정되었습니다\n",
    "QUANT_EXAMPLE_LENGTH = 64 # I'd recommend making this bigger, but needs to be small to not crash colab\n",
    "\n",
    "quantization_data = []\n",
    "key = jax.random.PRNGKey(0) #JAX의 랜덤 키를 초기화합니다. 랜덤 키는 재현 가능한 무작위 값을 생성하는 데 사용됩니다.\n",
    "for batch in jax_val_dataset:\n",
    "    # 배치 데이터 추출\n",
    "    images = batch['image']\n",
    "    \n",
    "    labels = batch['label']\n",
    "    \n",
    "    # GPU로 배치 이동\n",
    "    images = jax.device_put(images, gpu)\n",
    "    quantization_data.append(images) #quantization_data.append(batch): 생성된 배치를 양자화 데이터 리스트에 추가합니다.\n",
    "    if len(quantization_data) > 8:\n",
    "      break\n",
    "\n",
    "# params = jax.device_put(params, gpu)\n",
    "# print(type((quantization_data[0])))\n",
    "# params = jax.device_put(params, gpu)\n",
    "# print(type((quantization_data[0])))\n",
    "#양자화하지 않을 레이어 설정\n",
    "\n",
    "exclude_layers = [\n",
    "    # r\"a:f32\\[64,56,56,64\\].*conv_general_dilated.*\",\n",
    "    # r\"a:f32\\[64,56,56,256\\].*conv_general_dilated.*\",\n",
    "    # r\"a:f32\\[64,56,56,128\\].*conv_general_dilated.*\",\n",
    "    # r\"a:f32\\[64,28,28,512\\].*conv_general_dilated.*\",\n",
    "    # r\"a:f32\\[64,28,28,128\\].*conv_general_dilated.*\",\n",
    "    # r\"a:f32\\[64,28,28,256\\].*conv_general_dilated.*\",\n",
    "    # r\"a:f32\\[64,14,14,1024\\].*conv_general_dilated.*\",\n",
    "    # r\"a:f32\\[64,14,14,256\\].*conv_general_dilated.*\",\n",
    "    # r\"a:f32\\[64,14,14,512\\].*conv_general_dilated.*\",\n",
    "    # r\"a:f32\\[64,7,7,2048\\].*conv_general_dilated.*\",\n",
    "    # r\"a:f32\\[64,7,7,512\\].*conv_general_dilated.*\",\n",
    "    # r\"a:f32\\[64,1000\\].*dot_general.*\"\n",
    "]\n",
    "# exclude_layers = []\n",
    "quantized_params = jax_gptq.quantize(apply_model, params, quantization_data, block_size=64, exclude_layers=exclude_layers)\n",
    "\n",
    "\n",
    "# 양자화된 파라미터 구조 확인\n",
    "# print(jax.tree.map(lambda x: x.shape if hasattr(x, 'shape') else None, quantized_params))"
   ]
  },
  {
   "cell_type": "code",
   "execution_count": 20,
   "metadata": {},
   "outputs": [
    {
     "name": "stdout",
     "output_type": "stream",
     "text": [
      "(64, 224, 224, 3)\n",
      "Batch 1 processed, Batch Accuracy: 0.8281, Total samples: 64\n",
      "(64, 224, 224, 3)\n",
      "Batch 2 processed, Batch Accuracy: 0.8750, Total samples: 128\n",
      "(64, 224, 224, 3)\n",
      "Batch 3 processed, Batch Accuracy: 0.7500, Total samples: 192\n",
      "(64, 224, 224, 3)\n",
      "Batch 4 processed, Batch Accuracy: 0.8906, Total samples: 256\n",
      "(64, 224, 224, 3)\n",
      "Batch 5 processed, Batch Accuracy: 0.9219, Total samples: 320\n",
      "(64, 224, 224, 3)\n",
      "Batch 6 processed, Batch Accuracy: 0.7812, Total samples: 384\n",
      "(64, 224, 224, 3)\n",
      "Batch 7 processed, Batch Accuracy: 0.7812, Total samples: 448\n",
      "(64, 224, 224, 3)\n",
      "Batch 8 processed, Batch Accuracy: 0.8906, Total samples: 512\n",
      "(64, 224, 224, 3)\n",
      "Batch 9 processed, Batch Accuracy: 0.9219, Total samples: 576\n",
      "(64, 224, 224, 3)\n",
      "Batch 10 processed, Batch Accuracy: 0.8594, Total samples: 640\n",
      "\n",
      "Inference completed\n",
      "Overall Accuracy: 0.8500\n"
     ]
    }
   ],
   "source": [
    "quantized_params = jax.device_put(quantized_params, gpu)\n",
    "quantized_fn = jax_gptq.use_quantized(apply_model)\n",
    "jitted_model = jax.jit(quantized_fn)\n",
    "\n",
    "\n",
    "\n",
    "\n",
    "batch_size = 32\n",
    "\n",
    "# TensorFlow 데이터셋을 NumPy 배열로 변환\n",
    "jax_val_dataset\n",
    "\n",
    "batch_count = 0\n",
    "total_processed = 0\n",
    "\n",
    "total_correct = 0\n",
    "total_samples = 0\n",
    "\n",
    "for batch in jax_val_dataset:\n",
    "    # 배치 데이터 추출\n",
    "    images = batch['image']\n",
    "    \n",
    "    labels = batch['label']\n",
    "    \n",
    "    # GPU로 배치 이동\n",
    "    images = jax.device_put(images, gpu)\n",
    "    \n",
    "    print(images.shape)\n",
    "    # print(len(params[\"params\"], len()))\n",
    "    # 모델 적용\n",
    "    outputs = jitted_model(quantized_params, images)\n",
    "    \n",
    "     # 예측 클래스 계산\n",
    "    predicted_classes = jnp.argmax(outputs, axis=1)\n",
    "    \n",
    "    # 정확도 계산\n",
    "    correct_predictions = jnp.sum(predicted_classes == labels)\n",
    "    total_correct += correct_predictions\n",
    "    total_samples += labels.shape[0]\n",
    "    \n",
    "    # 배치 정확도 계산\n",
    "    batch_accuracy = correct_predictions / labels.shape[0]\n",
    "    \n",
    "    batch_count += 1\n",
    "    print(f\"Batch {batch_count} processed, Batch Accuracy: {batch_accuracy:.4f}, Total samples: {total_samples}\")\n",
    "\n",
    "    #옵션: 특정 수의 배치 후에 중단\n",
    "    if batch_count >= 10:\n",
    "        break\n",
    "\n",
    "# 전체 정확도 계산\n",
    "overall_accuracy = total_correct / total_samples\n",
    "print(f\"\\nInference completed\")\n",
    "print(f\"Overall Accuracy: {overall_accuracy:.4f}\")"
   ]
  },
  {
   "cell_type": "markdown",
   "metadata": {},
   "source": [
    "### 파라미터 크기 비교"
   ]
  },
  {
   "cell_type": "code",
   "execution_count": 21,
   "metadata": {},
   "outputs": [
    {
     "name": "stdout",
     "output_type": "stream",
     "text": [
      "Original params size: 102.44 MB\n",
      "Quantized params size: 62.62 MB\n",
      "Compression ratio: 1.64x\n"
     ]
    }
   ],
   "source": [
    "import jax.numpy as jnp\n",
    "\n",
    "def get_params_size(params):\n",
    "    total_size = 0\n",
    "    for param in jax.tree_util.tree_leaves(params):\n",
    "        total_size += param.size * param.dtype.itemsize\n",
    "    return total_size\n",
    "\n",
    "original_size = get_params_size(params)\n",
    "quantized_size = get_params_size(quantized_params)\n",
    "\n",
    "print(f\"Original params size: {original_size / 1e6:.2f} MB\")\n",
    "print(f\"Quantized params size: {quantized_size / 1e6:.2f} MB\")\n",
    "print(f\"Compression ratio: {original_size / quantized_size:.2f}x\")"
   ]
  },
  {
   "cell_type": "markdown",
   "metadata": {},
   "source": [
    "### 추론 속도 비교"
   ]
  },
  {
   "cell_type": "code",
   "execution_count": 22,
   "metadata": {},
   "outputs": [
    {
     "name": "stdout",
     "output_type": "stream",
     "text": [
      "Original model average inference time: 94.62 ms\n",
      "Quantized model average inference time: 95.97 ms\n",
      "Speedup: 0.99x\n"
     ]
    }
   ],
   "source": [
    "import time\n",
    "import jax\n",
    "import jax.numpy as jnp\n",
    "\n",
    "def time_inference(model_fn, params, input_data, num_runs=100):\n",
    "    # 워밍업 실행\n",
    "    for _ in range(5):\n",
    "        _ = model_fn(params, input_data)\n",
    "    \n",
    "    # 메인 타이밍 루프\n",
    "    start_time = time.time()\n",
    "    for _ in range(num_runs):\n",
    "        _ = model_fn(params, input_data)\n",
    "    end_time = time.time()\n",
    "    \n",
    "    avg_time = (end_time - start_time) / num_runs\n",
    "    return avg_time\n",
    "\n",
    "# 샘플 입력 데이터 준비\n",
    "sample_batch = next(iter(jax_val_dataset))\n",
    "sample_images = jax.device_put(sample_batch['image'], gpu)\n",
    "\n",
    "# 원본 모델 함수\n",
    "original_fn = jax.jit(apply_model)\n",
    "\n",
    "# 양자화된 모델 함수\n",
    "quantized_fn = jax.jit(jax_gptq.use_quantized(apply_model))\n",
    "\n",
    "# 원본 모델 추론 시간 측정\n",
    "original_time = time_inference(original_fn, params, sample_images)\n",
    "\n",
    "# 양자화된 모델 추론 시간 측정\n",
    "quantized_time = time_inference(quantized_fn, quantized_params, sample_images)\n",
    "\n",
    "print(f\"Original model average inference time: {original_time*1000:.2f} ms\")\n",
    "print(f\"Quantized model average inference time: {quantized_time*1000:.2f} ms\")\n",
    "print(f\"Speedup: {original_time/quantized_time:.2f}x\")"
   ]
  },
  {
   "cell_type": "code",
   "execution_count": null,
   "metadata": {},
   "outputs": [],
   "source": []
  }
 ],
 "metadata": {
  "accelerator": "GPU",
  "colab": {
   "collapsed_sections": [
    "0Y6JeyF45yd_"
   ],
   "gpuType": "T4",
   "provenance": []
  },
  "gpuClass": "standard",
  "kernelspec": {
   "display_name": "Python 3 (ipykernel)",
   "language": "python",
   "name": "python3"
  },
  "language_info": {
   "codemirror_mode": {
    "name": "ipython",
    "version": 3
   },
   "file_extension": ".py",
   "mimetype": "text/x-python",
   "name": "python",
   "nbconvert_exporter": "python",
   "pygments_lexer": "ipython3",
   "version": "3.12.0"
  }
 },
 "nbformat": 4,
 "nbformat_minor": 1
}
