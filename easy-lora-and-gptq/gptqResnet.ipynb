{
 "cells": [
  {
   "cell_type": "markdown",
   "metadata": {
    "id": "0Y6JeyF45yd_"
   },
   "source": [
    "### Setup"
   ]
  },
  {
   "cell_type": "code",
   "execution_count": 1,
   "metadata": {
    "id": "75-T_R0Ms9qD"
   },
   "outputs": [
    {
     "name": "stderr",
     "output_type": "stream",
     "text": [
      "2024-07-27 13:45:47.360877: E external/local_xla/xla/stream_executor/cuda/cuda_fft.cc:479] Unable to register cuFFT factory: Attempting to register factory for plugin cuFFT when one has already been registered\n",
      "2024-07-27 13:45:47.427176: E external/local_xla/xla/stream_executor/cuda/cuda_dnn.cc:10575] Unable to register cuDNN factory: Attempting to register factory for plugin cuDNN when one has already been registered\n",
      "2024-07-27 13:45:47.427554: E external/local_xla/xla/stream_executor/cuda/cuda_blas.cc:1442] Unable to register cuBLAS factory: Attempting to register factory for plugin cuBLAS when one has already been registered\n",
      "2024-07-27 13:45:48.601404: W tensorflow/compiler/tf2tensorrt/utils/py_utils.cc:38] TF-TRT Warning: Could not find TensorRT\n"
     ]
    }
   ],
   "source": [
    "import os, sys\n",
    "os.environ[\"XLA_PYTHON_CLIENT_PREALLOCATE\"] = \"false\"\n",
    "os.environ[\"XLA_PYTHON_CLIENT_ALLOCATOR\"] = \"platform\"\n",
    "# 아래 코드는 원하는 GPU 번호만 쓰도록 설정하는 코드\n",
    "os.environ['CUDA_VISIBLE_DEVICES'] = \"0\"\n",
    "\n",
    "from functools import partial\n",
    "import jax\n",
    "import jax.numpy as jnp\n",
    "import numpy as np\n",
    "import optax\n",
    "import transformers\n",
    "from tqdm import trange\n",
    "import tensorflow as tf\n",
    "import tensorflow_datasets as tfds\n",
    "\n",
    "import lorax\n",
    "import jax_gptq\n",
    "from torch.utils.data import DataLoader\n",
    "import torchvision.transforms as transforms\n",
    "import torchvision.datasets as datasets\n",
    "\n",
    "gpu = jax.devices('gpu')[0]\n",
    "cpu = jax.devices('cpu')[0]"
   ]
  },
  {
   "cell_type": "code",
   "execution_count": 2,
   "metadata": {
    "id": "Djyo_reAs26R"
   },
   "outputs": [
    {
     "name": "stderr",
     "output_type": "stream",
     "text": [
      "Using cache found in /home/daehun/.cache/torch/hub/pytorch_vision_v0.10.0\n",
      "/home/AI2/anaconda3/envs/12jax/lib/python3.12/site-packages/torchvision/models/_utils.py:208: UserWarning: The parameter 'pretrained' is deprecated since 0.13 and may be removed in the future, please use 'weights' instead.\n",
      "  warnings.warn(\n",
      "/home/AI2/anaconda3/envs/12jax/lib/python3.12/site-packages/torchvision/models/_utils.py:223: UserWarning: Arguments other than a weight enum or `None` for 'weights' are deprecated since 0.13 and may be removed in the future. The current behavior is equivalent to passing `weights=ResNet50_Weights.IMAGENET1K_V1`. You can also use `weights=ResNet50_Weights.DEFAULT` to get the most up-to-date weights.\n",
      "  warnings.warn(msg)\n"
     ]
    }
   ],
   "source": [
    "#/home/quantctr/jax-resnet/jax_resnet를 sys.path에 추가\n",
    "sys.path.append('/home/quantctr/jax-resnet/jax_resnet')\n",
    "# ResNet 모델 로드\n",
    "from jax_resnet.pretrained import pretrained_resnet\n",
    "\n",
    "# ResNet 크기 선택 (예: 50)\n",
    "size = 50\n",
    "model_cls, params = pretrained_resnet(size)"
   ]
  },
  {
   "cell_type": "code",
   "execution_count": 3,
   "metadata": {
    "id": "92W8jCjQeZ9J"
   },
   "outputs": [],
   "source": [
    "\n",
    "params = jax.device_put(params, gpu)\n",
    "\n",
    "# 모델 적용 함수 정의\n",
    "def apply_model(params, batch):\n",
    "    return model_cls().apply(params, batch)\n"
   ]
  },
  {
   "cell_type": "code",
   "execution_count": 4,
   "metadata": {},
   "outputs": [],
   "source": [
    "\n",
    "out = model_cls().apply(params,\n",
    "                  jnp.ones((32, 224, 224, 3)),  # ImageNet sized inputs.\n",
    "                  mutable=False)  # Ensure `batch_stats` aren't updated."
   ]
  },
  {
   "cell_type": "code",
   "execution_count": 5,
   "metadata": {},
   "outputs": [
    {
     "name": "stderr",
     "output_type": "stream",
     "text": [
      "/home/AI2/anaconda3/envs/12jax/lib/python3.12/multiprocessing/popen_fork.py:66: RuntimeWarning: os.fork() was called. os.fork() is incompatible with multithreaded code, and JAX is multithreaded, so this will likely lead to a deadlock.\n",
      "  self.pid = os.fork()\n"
     ]
    }
   ],
   "source": [
    "\n",
    "\n",
    "\n",
    "# 기존 코드에서 정의된 모델, 훈련 상태 생성 함수 등은 그대로 사용\n",
    "\n",
    "def create_jax_datasets(val_dataset, batch_size):\n",
    "    val_loader = DataLoader(val_dataset, batch_size=batch_size, shuffle=False, num_workers=4)\n",
    "    \n",
    "    def numpy_collate(batch):\n",
    "        if isinstance(batch[0], np.ndarray):\n",
    "            return np.stack(batch)\n",
    "        elif isinstance(batch[0], (tuple,list)):\n",
    "            transposed = zip(*batch)\n",
    "            return [numpy_collate(samples) for samples in transposed]\n",
    "        else:\n",
    "            return np.array(batch)\n",
    "\n",
    "    def to_jax_batch(batch):\n",
    "        images, labels = batch\n",
    "        # Transpose images to (batch_size, height, width, channels)\n",
    "        images = jnp.array(images.numpy()).transpose(0, 2, 3, 1)\n",
    "\n",
    "        return {\n",
    "            'image': jnp.array(images),\n",
    "            'label': jnp.array(labels.numpy())\n",
    "        }\n",
    "\n",
    "    jax_val_dataset = map(to_jax_batch, val_loader)\n",
    "    \n",
    "    return jax_val_dataset\n",
    "\n",
    "# 데이터셋 준비\n",
    "valdir = os.path.join('/home/quantctr/easy-lora-and-gptq','val')\n",
    "normalize = transforms.Normalize(mean=[0.485, 0.456, 0.406],\n",
    "                                 std=[0.229, 0.224, 0.225])\n",
    "val_dataset = datasets.ImageFolder(\n",
    "    valdir,\n",
    "    transforms.Compose([\n",
    "        transforms.Resize(256),\n",
    "        transforms.CenterCrop(224),\n",
    "        transforms.ToTensor(),\n",
    "        normalize,\n",
    "    ]))\n",
    "\n",
    "# JAX 데이터셋 생성\n",
    "batch_size = 64\n",
    "jax_val_dataset = create_jax_datasets(val_dataset, batch_size)"
   ]
  },
  {
   "cell_type": "code",
   "execution_count": 6,
   "metadata": {},
   "outputs": [
    {
     "name": "stderr",
     "output_type": "stream",
     "text": [
      "Quantizing: 0it [00:00, ?it/s]/home/AI2/anaconda3/envs/12jax/lib/python3.12/site-packages/jax_gptq/quantize_interpreter.py:510: UserWarning: Currently only quantizing convs with stride 1 is supported\n",
      "  warnings.warn('Currently only quantizing convs with stride 1 is supported')\n"
     ]
    },
    {
     "name": "stdout",
     "output_type": "stream",
     "text": [
      "Current env size: 1.27e+09 bytes\n",
      "Current param env size: 3.87e+04 bytes\n",
      "a:f32[64,56,56,64] = conv_general_dilated[\n",
      "  batch_group_count=1\n",
      "  dimension_numbers=ConvDimensionNumbers(lhs_spec=(0, 3, 1, 2), rhs_spec=(3, 2, 0, 1), out_spec=(0, 3, 1, 2))\n",
      "  feature_group_count=1\n",
      "  lhs_dilation=(1, 1)\n",
      "  padding=((0, 0), (0, 0))\n",
      "  precision=None\n",
      "  preferred_element_type=None\n",
      "  rhs_dilation=(1, 1)\n",
      "  window_strides=(1, 1)\n",
      "] b c\n",
      "exclude_layers : ['a:f32\\\\[64,56,56,64\\\\].conv_general_dilated.', 'a:f32\\\\[64,56,56,256\\\\].conv_general_dilated.', 'a:f32\\\\[64,56,56,128\\\\].conv_general_dilated.', 'a:f32\\\\[64,28,28,512\\\\].conv_general_dilated.', 'a:f32\\\\[64,28,28,128\\\\].conv_general_dilated.', 'a:f32\\\\[64,28,28,256\\\\].conv_general_dilated.', 'a:f32\\\\[64,14,14,1024\\\\].conv_general_dilated.', 'a:f32\\\\[64,14,14,256\\\\].conv_general_dilated.', 'a:f32\\\\[64,14,14,512\\\\].conv_general_dilated.', 'a:f32\\\\[64,7,7,2048\\\\].conv_general_dilated.', 'a:f32\\\\[64,7,7,512\\\\].conv_general_dilated.', 'a:f32\\\\[64,1000\\\\].dot_general.']\n"
     ]
    },
    {
     "name": "stderr",
     "output_type": "stream",
     "text": [
      "Quantizing: 2it [00:20, 10.34s/it]/home/AI2/anaconda3/envs/12jax/lib/python3.12/site-packages/jax_gptq/quantize_interpreter.py:531: UserWarning: Currently only quantizing convs with 1x..x1 kernels are supported\n",
      "  warnings.warn('Currently only quantizing convs with 1x..x1 kernels are supported')\n"
     ]
    },
    {
     "name": "stdout",
     "output_type": "stream",
     "text": [
      "Current env size: 3.39e+09 bytes\n",
      "Current param env size: 1.50e+05 bytes\n",
      "a:f32[64,56,56,256] = conv_general_dilated[\n",
      "  batch_group_count=1\n",
      "  dimension_numbers=ConvDimensionNumbers(lhs_spec=(0, 3, 1, 2), rhs_spec=(3, 2, 0, 1), out_spec=(0, 3, 1, 2))\n",
      "  feature_group_count=1\n",
      "  lhs_dilation=(1, 1)\n",
      "  padding=((0, 0), (0, 0))\n",
      "  precision=None\n",
      "  preferred_element_type=None\n",
      "  rhs_dilation=(1, 1)\n",
      "  window_strides=(1, 1)\n",
      "] b c\n",
      "exclude_layers : ['a:f32\\\\[64,56,56,64\\\\].conv_general_dilated.', 'a:f32\\\\[64,56,56,256\\\\].conv_general_dilated.', 'a:f32\\\\[64,56,56,128\\\\].conv_general_dilated.', 'a:f32\\\\[64,28,28,512\\\\].conv_general_dilated.', 'a:f32\\\\[64,28,28,128\\\\].conv_general_dilated.', 'a:f32\\\\[64,28,28,256\\\\].conv_general_dilated.', 'a:f32\\\\[64,14,14,1024\\\\].conv_general_dilated.', 'a:f32\\\\[64,14,14,256\\\\].conv_general_dilated.', 'a:f32\\\\[64,14,14,512\\\\].conv_general_dilated.', 'a:f32\\\\[64,7,7,2048\\\\].conv_general_dilated.', 'a:f32\\\\[64,7,7,512\\\\].conv_general_dilated.', 'a:f32\\\\[64,1000\\\\].dot_general.']\n"
     ]
    },
    {
     "name": "stderr",
     "output_type": "stream",
     "text": [
      "Quantizing: 3it [00:52, 19.09s/it]"
     ]
    },
    {
     "name": "stdout",
     "output_type": "stream",
     "text": [
      "Current env size: 8.48e+09 bytes\n",
      "Current param env size: 4.10e+03 bytes\n",
      "a:f32[64,56,56,256] = conv_general_dilated[\n",
      "  batch_group_count=1\n",
      "  dimension_numbers=ConvDimensionNumbers(lhs_spec=(0, 3, 1, 2), rhs_spec=(3, 2, 0, 1), out_spec=(0, 3, 1, 2))\n",
      "  feature_group_count=1\n",
      "  lhs_dilation=(1, 1)\n",
      "  padding=((0, 0), (0, 0))\n",
      "  precision=None\n",
      "  preferred_element_type=None\n",
      "  rhs_dilation=(1, 1)\n",
      "  window_strides=(1, 1)\n",
      "] b c\n",
      "exclude_layers : ['a:f32\\\\[64,56,56,64\\\\].conv_general_dilated.', 'a:f32\\\\[64,56,56,256\\\\].conv_general_dilated.', 'a:f32\\\\[64,56,56,128\\\\].conv_general_dilated.', 'a:f32\\\\[64,28,28,512\\\\].conv_general_dilated.', 'a:f32\\\\[64,28,28,128\\\\].conv_general_dilated.', 'a:f32\\\\[64,28,28,256\\\\].conv_general_dilated.', 'a:f32\\\\[64,14,14,1024\\\\].conv_general_dilated.', 'a:f32\\\\[64,14,14,256\\\\].conv_general_dilated.', 'a:f32\\\\[64,14,14,512\\\\].conv_general_dilated.', 'a:f32\\\\[64,7,7,2048\\\\].conv_general_dilated.', 'a:f32\\\\[64,7,7,512\\\\].conv_general_dilated.', 'a:f32\\\\[64,1000\\\\].dot_general.']\n"
     ]
    },
    {
     "name": "stderr",
     "output_type": "stream",
     "text": [
      "Quantizing: 4it [01:10, 19.04s/it]"
     ]
    },
    {
     "name": "stdout",
     "output_type": "stream",
     "text": [
      "Current env size: 1.36e+10 bytes\n",
      "Current param env size: 4.10e+03 bytes\n",
      "a:f32[64,56,56,64] = conv_general_dilated[\n",
      "  batch_group_count=1\n",
      "  dimension_numbers=ConvDimensionNumbers(lhs_spec=(0, 3, 1, 2), rhs_spec=(3, 2, 0, 1), out_spec=(0, 3, 1, 2))\n",
      "  feature_group_count=1\n",
      "  lhs_dilation=(1, 1)\n",
      "  padding=((0, 0), (0, 0))\n",
      "  precision=None\n",
      "  preferred_element_type=None\n",
      "  rhs_dilation=(1, 1)\n",
      "  window_strides=(1, 1)\n",
      "] b c\n",
      "exclude_layers : ['a:f32\\\\[64,56,56,64\\\\].conv_general_dilated.', 'a:f32\\\\[64,56,56,256\\\\].conv_general_dilated.', 'a:f32\\\\[64,56,56,128\\\\].conv_general_dilated.', 'a:f32\\\\[64,28,28,512\\\\].conv_general_dilated.', 'a:f32\\\\[64,28,28,128\\\\].conv_general_dilated.', 'a:f32\\\\[64,28,28,256\\\\].conv_general_dilated.', 'a:f32\\\\[64,14,14,1024\\\\].conv_general_dilated.', 'a:f32\\\\[64,14,14,256\\\\].conv_general_dilated.', 'a:f32\\\\[64,14,14,512\\\\].conv_general_dilated.', 'a:f32\\\\[64,7,7,2048\\\\].conv_general_dilated.', 'a:f32\\\\[64,7,7,512\\\\].conv_general_dilated.', 'a:f32\\\\[64,1000\\\\].dot_general.']\n"
     ]
    },
    {
     "name": "stderr",
     "output_type": "stream",
     "text": [
      "E0727 13:49:02.382000  728551 buffer_comparator.cc:148] Difference at 29519: -0.412343, expected -0.699036\n",
      "2024-07-27 13:49:02.382329: E external/xla/xla/service/gpu/gemm_fusion_autotuner.cc:929] Results do not match the reference. This is likely a bug/unexpected loss of precision.\n",
      "E0727 13:49:02.391918  728551 buffer_comparator.cc:148] Difference at 29519: -0.412343, expected -0.699036\n",
      "2024-07-27 13:49:02.392194: E external/xla/xla/service/gpu/gemm_fusion_autotuner.cc:929] Results do not match the reference. This is likely a bug/unexpected loss of precision.\n",
      "E0727 13:49:02.407367  728551 buffer_comparator.cc:148] Difference at 29519: -0.412343, expected -0.699036\n",
      "2024-07-27 13:49:02.407606: E external/xla/xla/service/gpu/gemm_fusion_autotuner.cc:929] Results do not match the reference. This is likely a bug/unexpected loss of precision.\n",
      "E0727 13:49:02.416124  728551 buffer_comparator.cc:148] Difference at 29519: -0.412343, expected -0.699036\n",
      "2024-07-27 13:49:02.416377: E external/xla/xla/service/gpu/gemm_fusion_autotuner.cc:929] Results do not match the reference. This is likely a bug/unexpected loss of precision.\n",
      "E0727 13:49:02.461936  728551 buffer_comparator.cc:148] Difference at 29519: -0.412128, expected -0.699036\n",
      "2024-07-27 13:49:02.462160: E external/xla/xla/service/gpu/gemm_fusion_autotuner.cc:929] Results do not match the reference. This is likely a bug/unexpected loss of precision.\n",
      "E0727 13:49:02.761119  728551 buffer_comparator.cc:148] Difference at 29519: -0.411736, expected -0.699036\n",
      "2024-07-27 13:49:02.761542: E external/xla/xla/service/gpu/gemm_fusion_autotuner.cc:929] Results do not match the reference. This is likely a bug/unexpected loss of precision.\n",
      "E0727 13:49:02.768524  728551 buffer_comparator.cc:148] Difference at 29519: -0.412343, expected -0.699036\n",
      "2024-07-27 13:49:02.768880: E external/xla/xla/service/gpu/gemm_fusion_autotuner.cc:929] Results do not match the reference. This is likely a bug/unexpected loss of precision.\n",
      "E0727 13:49:02.773627  728551 buffer_comparator.cc:148] Difference at 29519: -0.411555, expected -0.699036\n",
      "2024-07-27 13:49:02.774011: E external/xla/xla/service/gpu/gemm_fusion_autotuner.cc:929] Results do not match the reference. This is likely a bug/unexpected loss of precision.\n",
      "E0727 13:49:02.782730  728551 buffer_comparator.cc:148] Difference at 29519: -0.412343, expected -0.699036\n",
      "2024-07-27 13:49:02.783063: E external/xla/xla/service/gpu/gemm_fusion_autotuner.cc:929] Results do not match the reference. This is likely a bug/unexpected loss of precision.\n",
      "E0727 13:49:02.787851  728551 buffer_comparator.cc:148] Difference at 29519: -0.411736, expected -0.699036\n",
      "2024-07-27 13:49:02.788196: E external/xla/xla/service/gpu/gemm_fusion_autotuner.cc:929] Results do not match the reference. This is likely a bug/unexpected loss of precision.\n",
      "E0727 13:49:02.798398  728551 buffer_comparator.cc:148] Difference at 29519: -0.412343, expected -0.699036\n",
      "2024-07-27 13:49:02.798717: E external/xla/xla/service/gpu/gemm_fusion_autotuner.cc:929] Results do not match the reference. This is likely a bug/unexpected loss of precision.\n",
      "E0727 13:49:02.804854  728551 buffer_comparator.cc:148] Difference at 29519: -0.412343, expected -0.699036\n",
      "2024-07-27 13:49:02.805136: E external/xla/xla/service/gpu/gemm_fusion_autotuner.cc:929] Results do not match the reference. This is likely a bug/unexpected loss of precision.\n",
      "E0727 13:49:02.816313  728551 buffer_comparator.cc:148] Difference at 29519: -0.412343, expected -0.699036\n",
      "2024-07-27 13:49:02.816550: E external/xla/xla/service/gpu/gemm_fusion_autotuner.cc:929] Results do not match the reference. This is likely a bug/unexpected loss of precision.\n",
      "E0727 13:49:02.828434  728551 buffer_comparator.cc:148] Difference at 29519: -0.412343, expected -0.699036\n",
      "2024-07-27 13:49:02.828644: E external/xla/xla/service/gpu/gemm_fusion_autotuner.cc:929] Results do not match the reference. This is likely a bug/unexpected loss of precision.\n",
      "E0727 13:49:02.841879  728551 buffer_comparator.cc:148] Difference at 29519: -0.412343, expected -0.699036\n",
      "2024-07-27 13:49:02.842096: E external/xla/xla/service/gpu/gemm_fusion_autotuner.cc:929] Results do not match the reference. This is likely a bug/unexpected loss of precision.\n",
      "E0727 13:49:02.855248  728551 buffer_comparator.cc:148] Difference at 29519: -0.413071, expected -0.699036\n",
      "2024-07-27 13:49:02.855411: E external/xla/xla/service/gpu/gemm_fusion_autotuner.cc:929] Results do not match the reference. This is likely a bug/unexpected loss of precision.\n",
      "Quantizing: 5it [01:32, 19.74s/it]/home/AI2/anaconda3/envs/12jax/lib/python3.12/site-packages/jax_gptq/quantize_interpreter.py:531: UserWarning: Currently only quantizing convs with 1x..x1 kernels are supported\n",
      "  warnings.warn('Currently only quantizing convs with 1x..x1 kernels are supported')\n"
     ]
    },
    {
     "name": "stdout",
     "output_type": "stream",
     "text": [
      "Current env size: 8.48e+09 bytes\n",
      "Current param env size: 1.50e+05 bytes\n",
      "a:f32[64,56,56,256] = conv_general_dilated[\n",
      "  batch_group_count=1\n",
      "  dimension_numbers=ConvDimensionNumbers(lhs_spec=(0, 3, 1, 2), rhs_spec=(3, 2, 0, 1), out_spec=(0, 3, 1, 2))\n",
      "  feature_group_count=1\n",
      "  lhs_dilation=(1, 1)\n",
      "  padding=((0, 0), (0, 0))\n",
      "  precision=None\n",
      "  preferred_element_type=None\n",
      "  rhs_dilation=(1, 1)\n",
      "  window_strides=(1, 1)\n",
      "] b c\n",
      "exclude_layers : ['a:f32\\\\[64,56,56,64\\\\].conv_general_dilated.', 'a:f32\\\\[64,56,56,256\\\\].conv_general_dilated.', 'a:f32\\\\[64,56,56,128\\\\].conv_general_dilated.', 'a:f32\\\\[64,28,28,512\\\\].conv_general_dilated.', 'a:f32\\\\[64,28,28,128\\\\].conv_general_dilated.', 'a:f32\\\\[64,28,28,256\\\\].conv_general_dilated.', 'a:f32\\\\[64,14,14,1024\\\\].conv_general_dilated.', 'a:f32\\\\[64,14,14,256\\\\].conv_general_dilated.', 'a:f32\\\\[64,14,14,512\\\\].conv_general_dilated.', 'a:f32\\\\[64,7,7,2048\\\\].conv_general_dilated.', 'a:f32\\\\[64,7,7,512\\\\].conv_general_dilated.', 'a:f32\\\\[64,1000\\\\].dot_general.']\n"
     ]
    },
    {
     "name": "stderr",
     "output_type": "stream",
     "text": [
      "Quantizing: 6it [01:47, 18.20s/it]"
     ]
    },
    {
     "name": "stdout",
     "output_type": "stream",
     "text": [
      "Current env size: 1.36e+10 bytes\n",
      "Current param env size: 4.10e+03 bytes\n",
      "a:f32[64,56,56,64] = conv_general_dilated[\n",
      "  batch_group_count=1\n",
      "  dimension_numbers=ConvDimensionNumbers(lhs_spec=(0, 3, 1, 2), rhs_spec=(3, 2, 0, 1), out_spec=(0, 3, 1, 2))\n",
      "  feature_group_count=1\n",
      "  lhs_dilation=(1, 1)\n",
      "  padding=((0, 0), (0, 0))\n",
      "  precision=None\n",
      "  preferred_element_type=None\n",
      "  rhs_dilation=(1, 1)\n",
      "  window_strides=(1, 1)\n",
      "] b c\n",
      "exclude_layers : ['a:f32\\\\[64,56,56,64\\\\].conv_general_dilated.', 'a:f32\\\\[64,56,56,256\\\\].conv_general_dilated.', 'a:f32\\\\[64,56,56,128\\\\].conv_general_dilated.', 'a:f32\\\\[64,28,28,512\\\\].conv_general_dilated.', 'a:f32\\\\[64,28,28,128\\\\].conv_general_dilated.', 'a:f32\\\\[64,28,28,256\\\\].conv_general_dilated.', 'a:f32\\\\[64,14,14,1024\\\\].conv_general_dilated.', 'a:f32\\\\[64,14,14,256\\\\].conv_general_dilated.', 'a:f32\\\\[64,14,14,512\\\\].conv_general_dilated.', 'a:f32\\\\[64,7,7,2048\\\\].conv_general_dilated.', 'a:f32\\\\[64,7,7,512\\\\].conv_general_dilated.', 'a:f32\\\\[64,1000\\\\].dot_general.']\n"
     ]
    },
    {
     "name": "stderr",
     "output_type": "stream",
     "text": [
      "Quantizing: 7it [01:54, 14.85s/it]/home/AI2/anaconda3/envs/12jax/lib/python3.12/site-packages/jax_gptq/quantize_interpreter.py:531: UserWarning: Currently only quantizing convs with 1x..x1 kernels are supported\n",
      "  warnings.warn('Currently only quantizing convs with 1x..x1 kernels are supported')\n"
     ]
    },
    {
     "name": "stdout",
     "output_type": "stream",
     "text": [
      "Current env size: 8.48e+09 bytes\n",
      "Current param env size: 1.50e+05 bytes\n",
      "a:f32[64,56,56,256] = conv_general_dilated[\n",
      "  batch_group_count=1\n",
      "  dimension_numbers=ConvDimensionNumbers(lhs_spec=(0, 3, 1, 2), rhs_spec=(3, 2, 0, 1), out_spec=(0, 3, 1, 2))\n",
      "  feature_group_count=1\n",
      "  lhs_dilation=(1, 1)\n",
      "  padding=((0, 0), (0, 0))\n",
      "  precision=None\n",
      "  preferred_element_type=None\n",
      "  rhs_dilation=(1, 1)\n",
      "  window_strides=(1, 1)\n",
      "] b c\n",
      "exclude_layers : ['a:f32\\\\[64,56,56,64\\\\].conv_general_dilated.', 'a:f32\\\\[64,56,56,256\\\\].conv_general_dilated.', 'a:f32\\\\[64,56,56,128\\\\].conv_general_dilated.', 'a:f32\\\\[64,28,28,512\\\\].conv_general_dilated.', 'a:f32\\\\[64,28,28,128\\\\].conv_general_dilated.', 'a:f32\\\\[64,28,28,256\\\\].conv_general_dilated.', 'a:f32\\\\[64,14,14,1024\\\\].conv_general_dilated.', 'a:f32\\\\[64,14,14,256\\\\].conv_general_dilated.', 'a:f32\\\\[64,14,14,512\\\\].conv_general_dilated.', 'a:f32\\\\[64,7,7,2048\\\\].conv_general_dilated.', 'a:f32\\\\[64,7,7,512\\\\].conv_general_dilated.', 'a:f32\\\\[64,1000\\\\].dot_general.']\n"
     ]
    },
    {
     "ename": "KeyboardInterrupt",
     "evalue": "",
     "output_type": "error",
     "traceback": [
      "\u001b[0;31m---------------------------------------------------------------------------\u001b[0m",
      "\u001b[0;31mKeyboardInterrupt\u001b[0m                         Traceback (most recent call last)",
      "Cell \u001b[0;32mIn[6], line 36\u001b[0m\n\u001b[1;32m     19\u001b[0m \u001b[38;5;66;03m# params = jax.device_put(params, gpu)\u001b[39;00m\n\u001b[1;32m     20\u001b[0m \u001b[38;5;66;03m# print(type((quantization_data[0])))\u001b[39;00m\n\u001b[1;32m     21\u001b[0m \u001b[38;5;66;03m#양자화하지 않을 레이어 설정\u001b[39;00m\n\u001b[1;32m     22\u001b[0m exclude_layers \u001b[38;5;241m=\u001b[39m [\n\u001b[1;32m     23\u001b[0m     \u001b[38;5;124mr\u001b[39m\u001b[38;5;124m\"\u001b[39m\u001b[38;5;124ma:f32\u001b[39m\u001b[38;5;124m\\\u001b[39m\u001b[38;5;124m[64,56,56,64\u001b[39m\u001b[38;5;124m\\\u001b[39m\u001b[38;5;124m].conv_general_dilated.\u001b[39m\u001b[38;5;124m\"\u001b[39m,\n\u001b[1;32m     24\u001b[0m     \u001b[38;5;124mr\u001b[39m\u001b[38;5;124m\"\u001b[39m\u001b[38;5;124ma:f32\u001b[39m\u001b[38;5;124m\\\u001b[39m\u001b[38;5;124m[64,56,56,256\u001b[39m\u001b[38;5;124m\\\u001b[39m\u001b[38;5;124m].conv_general_dilated.\u001b[39m\u001b[38;5;124m\"\u001b[39m,\n\u001b[0;32m   (...)\u001b[0m\n\u001b[1;32m     34\u001b[0m     \u001b[38;5;124mr\u001b[39m\u001b[38;5;124m\"\u001b[39m\u001b[38;5;124ma:f32\u001b[39m\u001b[38;5;124m\\\u001b[39m\u001b[38;5;124m[64,1000\u001b[39m\u001b[38;5;124m\\\u001b[39m\u001b[38;5;124m].dot_general.\u001b[39m\u001b[38;5;124m\"\u001b[39m\n\u001b[1;32m     35\u001b[0m ]\n\u001b[0;32m---> 36\u001b[0m quantized_params \u001b[38;5;241m=\u001b[39m jax_gptq\u001b[38;5;241m.\u001b[39mquantize(apply_model, params, quantization_data, block_size\u001b[38;5;241m=\u001b[39m\u001b[38;5;241m64\u001b[39m, exclude_layers\u001b[38;5;241m=\u001b[39mexclude_layers)\n",
      "File \u001b[0;32m/home/AI2/anaconda3/envs/12jax/lib/python3.12/site-packages/jax_gptq/quantize_interpreter.py:65\u001b[0m, in \u001b[0;36mquantize\u001b[0;34m(fn, params, inputs, block_size, actorder, damping, use_quantized_activations, use_fp64, use_params_fp32, exclude_layers)\u001b[0m\n\u001b[1;32m     61\u001b[0m input_args \u001b[38;5;241m=\u001b[39m [\u001b[38;5;28mlist\u001b[39m(arg) \u001b[38;5;28;01mfor\u001b[39;00m arg \u001b[38;5;129;01min\u001b[39;00m \u001b[38;5;28mzip\u001b[39m(\u001b[38;5;241m*\u001b[39minput_args)]\n\u001b[1;32m     63\u001b[0m argnums \u001b[38;5;241m=\u001b[39m \u001b[38;5;28mset\u001b[39m(\u001b[38;5;28mrange\u001b[39m(\u001b[38;5;241m0\u001b[39m, \u001b[38;5;28mlen\u001b[39m(param_args)))\n\u001b[0;32m---> 65\u001b[0m result \u001b[38;5;241m=\u001b[39m _eval_and_quantize(\n\u001b[1;32m     66\u001b[0m     closed_jaxpr\u001b[38;5;241m.\u001b[39mjaxpr,\n\u001b[1;32m     67\u001b[0m     closed_jaxpr\u001b[38;5;241m.\u001b[39mliterals,\n\u001b[1;32m     68\u001b[0m     argnums,\n\u001b[1;32m     69\u001b[0m     \u001b[38;5;241m*\u001b[39mparam_args,\n\u001b[1;32m     70\u001b[0m     \u001b[38;5;241m*\u001b[39minput_args,\n\u001b[1;32m     71\u001b[0m     block_size\u001b[38;5;241m=\u001b[39mblock_size,\n\u001b[1;32m     72\u001b[0m     actorder\u001b[38;5;241m=\u001b[39mactorder,\n\u001b[1;32m     73\u001b[0m     damping\u001b[38;5;241m=\u001b[39mdamping,\n\u001b[1;32m     74\u001b[0m     use_quantized_activations\u001b[38;5;241m=\u001b[39muse_quantized_activations,\n\u001b[1;32m     75\u001b[0m     use_fp64\u001b[38;5;241m=\u001b[39muse_fp64,\n\u001b[1;32m     76\u001b[0m     use_params_fp32\u001b[38;5;241m=\u001b[39muse_params_fp32,\n\u001b[1;32m     77\u001b[0m     exclude_layers\u001b[38;5;241m=\u001b[39mexclude_layers\n\u001b[1;32m     78\u001b[0m )\n\u001b[1;32m     79\u001b[0m \u001b[38;5;28;01mfor\u001b[39;00m ind, quantized_param \u001b[38;5;129;01min\u001b[39;00m result\u001b[38;5;241m.\u001b[39mitems():\n\u001b[1;32m     80\u001b[0m     param_args[ind] \u001b[38;5;241m=\u001b[39m quantized_param\n",
      "File \u001b[0;32m/home/AI2/anaconda3/envs/12jax/lib/python3.12/site-packages/jax_gptq/quantize_interpreter.py:308\u001b[0m, in \u001b[0;36m_eval_and_quantize\u001b[0;34m(jaxpr, consts, argnums, block_size, actorder, damping, use_quantized_activations, use_fp64, use_params_fp32, exclude_layers, *args)\u001b[0m\n\u001b[1;32m    304\u001b[0m \u001b[38;5;66;03m#대용량 결과 처리\u001b[39;00m\n\u001b[1;32m    305\u001b[0m \u001b[38;5;28;01mif\u001b[39;00m tree_size_bytes(results) \u001b[38;5;241m>\u001b[39m \u001b[38;5;241m1e8\u001b[39m:\n\u001b[1;32m    306\u001b[0m     \u001b[38;5;66;03m# This should offload stuff like the final logits to the CPU\u001b[39;00m\n\u001b[1;32m    307\u001b[0m     \u001b[38;5;66;03m#CPU로 오프로드\u001b[39;00m\n\u001b[0;32m--> 308\u001b[0m     cpu_results \u001b[38;5;241m=\u001b[39m jax\u001b[38;5;241m.\u001b[39mdevice_put(results, cpu)\n\u001b[1;32m    309\u001b[0m     jax\u001b[38;5;241m.\u001b[39mtree_map(\u001b[38;5;28;01mlambda\u001b[39;00m x: x\u001b[38;5;241m.\u001b[39mis_deleted() \u001b[38;5;129;01mor\u001b[39;00m x\u001b[38;5;241m.\u001b[39maddressable_data(\u001b[38;5;241m0\u001b[39m)\u001b[38;5;241m.\u001b[39mdelete(), results)\n\u001b[1;32m    310\u001b[0m     results \u001b[38;5;241m=\u001b[39m cpu_results\n",
      "File \u001b[0;32m/home/AI2/anaconda3/envs/12jax/lib/python3.12/site-packages/jax/_src/api.py:2471\u001b[0m, in \u001b[0;36mdevice_put\u001b[0;34m(x, device, src)\u001b[0m\n\u001b[1;32m   2469\u001b[0m \u001b[38;5;28;01mfor\u001b[39;00m xf, d \u001b[38;5;129;01min\u001b[39;00m \u001b[38;5;28mzip\u001b[39m(x_flat, device_flat):\n\u001b[1;32m   2470\u001b[0m   _check_sharding(shaped_abstractify(xf), d)\n\u001b[0;32m-> 2471\u001b[0m out_flat \u001b[38;5;241m=\u001b[39m dispatch\u001b[38;5;241m.\u001b[39mdevice_put_p\u001b[38;5;241m.\u001b[39mbind(\n\u001b[1;32m   2472\u001b[0m     \u001b[38;5;241m*\u001b[39mx_flat, devices\u001b[38;5;241m=\u001b[39mdevice_flat, srcs\u001b[38;5;241m=\u001b[39msrc_flat\n\u001b[1;32m   2473\u001b[0m )\n\u001b[1;32m   2474\u001b[0m \u001b[38;5;28;01mreturn\u001b[39;00m tree_unflatten(treedef, out_flat)\n",
      "File \u001b[0;32m/home/AI2/anaconda3/envs/12jax/lib/python3.12/site-packages/jax/_src/core.py:416\u001b[0m, in \u001b[0;36mPrimitive.bind\u001b[0;34m(self, *args, **params)\u001b[0m\n\u001b[1;32m    413\u001b[0m \u001b[38;5;28;01mdef\u001b[39;00m \u001b[38;5;21mbind\u001b[39m(\u001b[38;5;28mself\u001b[39m, \u001b[38;5;241m*\u001b[39margs, \u001b[38;5;241m*\u001b[39m\u001b[38;5;241m*\u001b[39mparams):\n\u001b[1;32m    414\u001b[0m   \u001b[38;5;28;01massert\u001b[39;00m (\u001b[38;5;129;01mnot\u001b[39;00m config\u001b[38;5;241m.\u001b[39menable_checks\u001b[38;5;241m.\u001b[39mvalue \u001b[38;5;129;01mor\u001b[39;00m\n\u001b[1;32m    415\u001b[0m           \u001b[38;5;28mall\u001b[39m(\u001b[38;5;28misinstance\u001b[39m(arg, Tracer) \u001b[38;5;129;01mor\u001b[39;00m valid_jaxtype(arg) \u001b[38;5;28;01mfor\u001b[39;00m arg \u001b[38;5;129;01min\u001b[39;00m args)), args\n\u001b[0;32m--> 416\u001b[0m   \u001b[38;5;28;01mreturn\u001b[39;00m \u001b[38;5;28mself\u001b[39m\u001b[38;5;241m.\u001b[39mbind_with_trace(find_top_trace(args), args, params)\n",
      "File \u001b[0;32m/home/AI2/anaconda3/envs/12jax/lib/python3.12/site-packages/jax/_src/core.py:420\u001b[0m, in \u001b[0;36mPrimitive.bind_with_trace\u001b[0;34m(self, trace, args, params)\u001b[0m\n\u001b[1;32m    418\u001b[0m \u001b[38;5;28;01mdef\u001b[39;00m \u001b[38;5;21mbind_with_trace\u001b[39m(\u001b[38;5;28mself\u001b[39m, trace, args, params):\n\u001b[1;32m    419\u001b[0m   \u001b[38;5;28;01mwith\u001b[39;00m pop_level(trace\u001b[38;5;241m.\u001b[39mlevel):\n\u001b[0;32m--> 420\u001b[0m     out \u001b[38;5;241m=\u001b[39m trace\u001b[38;5;241m.\u001b[39mprocess_primitive(\u001b[38;5;28mself\u001b[39m, \u001b[38;5;28mmap\u001b[39m(trace\u001b[38;5;241m.\u001b[39mfull_raise, args), params)\n\u001b[1;32m    421\u001b[0m   \u001b[38;5;28;01mreturn\u001b[39;00m \u001b[38;5;28mmap\u001b[39m(full_lower, out) \u001b[38;5;28;01mif\u001b[39;00m \u001b[38;5;28mself\u001b[39m\u001b[38;5;241m.\u001b[39mmultiple_results \u001b[38;5;28;01melse\u001b[39;00m full_lower(out)\n",
      "File \u001b[0;32m/home/AI2/anaconda3/envs/12jax/lib/python3.12/site-packages/jax/_src/core.py:921\u001b[0m, in \u001b[0;36mEvalTrace.process_primitive\u001b[0;34m(self, primitive, tracers, params)\u001b[0m\n\u001b[1;32m    919\u001b[0m   \u001b[38;5;28;01mreturn\u001b[39;00m call_impl_with_key_reuse_checks(primitive, primitive\u001b[38;5;241m.\u001b[39mimpl, \u001b[38;5;241m*\u001b[39mtracers, \u001b[38;5;241m*\u001b[39m\u001b[38;5;241m*\u001b[39mparams)\n\u001b[1;32m    920\u001b[0m \u001b[38;5;28;01melse\u001b[39;00m:\n\u001b[0;32m--> 921\u001b[0m   \u001b[38;5;28;01mreturn\u001b[39;00m primitive\u001b[38;5;241m.\u001b[39mimpl(\u001b[38;5;241m*\u001b[39mtracers, \u001b[38;5;241m*\u001b[39m\u001b[38;5;241m*\u001b[39mparams)\n",
      "File \u001b[0;32m/home/AI2/anaconda3/envs/12jax/lib/python3.12/site-packages/jax/_src/dispatch.py:486\u001b[0m, in \u001b[0;36m_batched_device_put_impl\u001b[0;34m(devices, srcs, *xs)\u001b[0m\n\u001b[1;32m    484\u001b[0m shard_arg_indices, shard_arg_xs, shard_arg_shardings \u001b[38;5;241m=\u001b[39m [], [], []\n\u001b[1;32m    485\u001b[0m \u001b[38;5;28;01mfor\u001b[39;00m i, (x, device, src) \u001b[38;5;129;01min\u001b[39;00m \u001b[38;5;28menumerate\u001b[39m(\u001b[38;5;28mzip\u001b[39m(xs, devices, srcs)):\n\u001b[0;32m--> 486\u001b[0m   y \u001b[38;5;241m=\u001b[39m _device_put_impl(x, device\u001b[38;5;241m=\u001b[39mdevice, src\u001b[38;5;241m=\u001b[39msrc)\n\u001b[1;32m    487\u001b[0m   \u001b[38;5;28;01mif\u001b[39;00m \u001b[38;5;28misinstance\u001b[39m(y, _DeferredShardArg):\n\u001b[1;32m    488\u001b[0m     shard_arg_indices\u001b[38;5;241m.\u001b[39mappend(i)\n",
      "File \u001b[0;32m/home/AI2/anaconda3/envs/12jax/lib/python3.12/site-packages/jax/_src/dispatch.py:475\u001b[0m, in \u001b[0;36m_device_put_impl\u001b[0;34m(x, device, src)\u001b[0m\n\u001b[1;32m    472\u001b[0m     \u001b[38;5;28;01mreturn\u001b[39;00m _device_put_sharding_impl(x, aval, l\u001b[38;5;241m.\u001b[39msharding)\n\u001b[1;32m    473\u001b[0m   \u001b[38;5;28;01mreturn\u001b[39;00m api\u001b[38;5;241m.\u001b[39mjit(_identity_fn, out_shardings\u001b[38;5;241m=\u001b[39ml)(x)\n\u001b[0;32m--> 475\u001b[0m \u001b[38;5;28;01mreturn\u001b[39;00m _device_put_sharding_impl(x, aval, device)\n",
      "File \u001b[0;32m/home/AI2/anaconda3/envs/12jax/lib/python3.12/site-packages/jax/_src/dispatch.py:431\u001b[0m, in \u001b[0;36m_device_put_sharding_impl\u001b[0;34m(x, aval, device)\u001b[0m\n\u001b[1;32m    429\u001b[0m     \u001b[38;5;28;01mreturn\u001b[39;00m x\n\u001b[1;32m    430\u001b[0m   \u001b[38;5;28;01melif\u001b[39;00m is_single_device_sharding(x\u001b[38;5;241m.\u001b[39msharding):\n\u001b[0;32m--> 431\u001b[0m     \u001b[38;5;28;01mreturn\u001b[39;00m pxla\u001b[38;5;241m.\u001b[39mbatched_device_put(aval, SingleDeviceSharding(device), [x],\n\u001b[1;32m    432\u001b[0m                                    [device])\n\u001b[1;32m    434\u001b[0m sh \u001b[38;5;241m=\u001b[39m SingleDeviceSharding(pxla\u001b[38;5;241m.\u001b[39m_get_default_device()\n\u001b[1;32m    435\u001b[0m                           \u001b[38;5;28;01mif\u001b[39;00m device \u001b[38;5;129;01mis\u001b[39;00m \u001b[38;5;28;01mNone\u001b[39;00m \u001b[38;5;28;01melse\u001b[39;00m device)\n\u001b[1;32m    436\u001b[0m \u001b[38;5;28;01mreturn\u001b[39;00m _DeferredShardArg(x, sh, aval, device \u001b[38;5;129;01mis\u001b[39;00m \u001b[38;5;129;01mnot\u001b[39;00m \u001b[38;5;28;01mNone\u001b[39;00m)\n",
      "File \u001b[0;32m/home/AI2/anaconda3/envs/12jax/lib/python3.12/site-packages/jax/_src/interpreters/pxla.py:195\u001b[0m, in \u001b[0;36mbatched_device_put\u001b[0;34m(aval, sharding, xs, devices, committed)\u001b[0m\n\u001b[1;32m    192\u001b[0m \u001b[38;5;28;01mif\u001b[39;00m \u001b[38;5;28mlen\u001b[39m(bufs) \u001b[38;5;241m==\u001b[39m \u001b[38;5;28mlen\u001b[39m(xs):\n\u001b[1;32m    193\u001b[0m   \u001b[38;5;28;01mreturn\u001b[39;00m array\u001b[38;5;241m.\u001b[39mArrayImpl(\n\u001b[1;32m    194\u001b[0m       aval, sharding, bufs, committed\u001b[38;5;241m=\u001b[39mcommitted, _skip_checks\u001b[38;5;241m=\u001b[39m\u001b[38;5;28;01mTrue\u001b[39;00m)\n\u001b[0;32m--> 195\u001b[0m \u001b[38;5;28;01mreturn\u001b[39;00m xc\u001b[38;5;241m.\u001b[39mbatched_device_put(aval, sharding, xs, \u001b[38;5;28mlist\u001b[39m(devices), committed)\n",
      "File \u001b[0;32m/home/AI2/anaconda3/envs/12jax/lib/python3.12/site-packages/jax/_src/profiler.py:335\u001b[0m, in \u001b[0;36mannotate_function.<locals>.wrapper\u001b[0;34m(*args, **kwargs)\u001b[0m\n\u001b[1;32m    332\u001b[0m \u001b[38;5;129m@wraps\u001b[39m(func)\n\u001b[1;32m    333\u001b[0m \u001b[38;5;28;01mdef\u001b[39;00m \u001b[38;5;21mwrapper\u001b[39m(\u001b[38;5;241m*\u001b[39margs, \u001b[38;5;241m*\u001b[39m\u001b[38;5;241m*\u001b[39mkwargs):\n\u001b[1;32m    334\u001b[0m   \u001b[38;5;28;01mwith\u001b[39;00m TraceAnnotation(name, \u001b[38;5;241m*\u001b[39m\u001b[38;5;241m*\u001b[39mdecorator_kwargs):\n\u001b[0;32m--> 335\u001b[0m     \u001b[38;5;28;01mreturn\u001b[39;00m func(\u001b[38;5;241m*\u001b[39margs, \u001b[38;5;241m*\u001b[39m\u001b[38;5;241m*\u001b[39mkwargs)\n\u001b[1;32m    336\u001b[0m   \u001b[38;5;28;01mreturn\u001b[39;00m wrapper\n",
      "File \u001b[0;32m/home/AI2/anaconda3/envs/12jax/lib/python3.12/site-packages/jax/_src/array.py:594\u001b[0m, in \u001b[0;36mArrayImpl._value\u001b[0;34m(self)\u001b[0m\n\u001b[1;32m    592\u001b[0m \u001b[38;5;28;01mif\u001b[39;00m \u001b[38;5;28mself\u001b[39m\u001b[38;5;241m.\u001b[39m_npy_value \u001b[38;5;129;01mis\u001b[39;00m \u001b[38;5;28;01mNone\u001b[39;00m:\n\u001b[1;32m    593\u001b[0m   \u001b[38;5;28;01mif\u001b[39;00m \u001b[38;5;28mself\u001b[39m\u001b[38;5;241m.\u001b[39mis_fully_replicated:\n\u001b[0;32m--> 594\u001b[0m     \u001b[38;5;28mself\u001b[39m\u001b[38;5;241m.\u001b[39m_npy_value \u001b[38;5;241m=\u001b[39m \u001b[38;5;28mself\u001b[39m\u001b[38;5;241m.\u001b[39m_single_device_array_to_np_array()\n\u001b[1;32m    595\u001b[0m     \u001b[38;5;28mself\u001b[39m\u001b[38;5;241m.\u001b[39m_npy_value\u001b[38;5;241m.\u001b[39mflags\u001b[38;5;241m.\u001b[39mwriteable \u001b[38;5;241m=\u001b[39m \u001b[38;5;28;01mFalse\u001b[39;00m\n\u001b[1;32m    596\u001b[0m     \u001b[38;5;28;01mreturn\u001b[39;00m cast(np\u001b[38;5;241m.\u001b[39mndarray, \u001b[38;5;28mself\u001b[39m\u001b[38;5;241m.\u001b[39m_npy_value)\n",
      "\u001b[0;31mKeyboardInterrupt\u001b[0m: "
     ]
    }
   ],
   "source": [
    "QUANT_BATCH_SIZE = 4 #\t•\tQUANT_BATCH_SIZE: 양자화를 위해 사용할 배치 크기입니다. 여기서는 4로 설정되어 있습니다.\n",
    "#양자화 예제의 길이입니다. 각 예제는 64개의 토큰으로 구성됩니다. 이 값을 더 크게 설정할 수 있지만, Colab에서 메모리 충돌을 방지하기 위해 작은 값으로 설정되었습니다\n",
    "QUANT_EXAMPLE_LENGTH = 64 # I'd recommend making this bigger, but needs to be small to not crash colab\n",
    "\n",
    "quantization_data = []\n",
    "key = jax.random.PRNGKey(0) #JAX의 랜덤 키를 초기화합니다. 랜덤 키는 재현 가능한 무작위 값을 생성하는 데 사용됩니다.\n",
    "for batch in jax_val_dataset:\n",
    "    # 배치 데이터 추출\n",
    "    images = batch['image']\n",
    "    \n",
    "    labels = batch['label']\n",
    "    \n",
    "    # GPU로 배치 이동\n",
    "    images = jax.device_put(images, gpu)\n",
    "    quantization_data.append(images) #quantization_data.append(batch): 생성된 배치를 양자화 데이터 리스트에 추가합니다.\n",
    "    if len(quantization_data) > 32:\n",
    "      break\n",
    "\n",
    "# params = jax.device_put(params, gpu)\n",
    "# print(type((quantization_data[0])))\n",
    "#양자화하지 않을 레이어 설정\n",
    "exclude_layers = [\n",
    "    r\"a:f32\\[64,56,56,64\\].conv_general_dilated.\",\n",
    "    r\"a:f32\\[64,56,56,256\\].conv_general_dilated.\",\n",
    "    r\"a:f32\\[64,56,56,128\\].conv_general_dilated.\",\n",
    "    r\"a:f32\\[64,28,28,512\\].conv_general_dilated.\",\n",
    "    r\"a:f32\\[64,28,28,128\\].conv_general_dilated.\",\n",
    "    r\"a:f32\\[64,28,28,256\\].conv_general_dilated.\",\n",
    "    r\"a:f32\\[64,14,14,1024\\].conv_general_dilated.\",\n",
    "    r\"a:f32\\[64,14,14,256\\].conv_general_dilated.\",\n",
    "    r\"a:f32\\[64,14,14,512\\].conv_general_dilated.\",\n",
    "    r\"a:f32\\[64,7,7,2048\\].conv_general_dilated.\",\n",
    "    r\"a:f32\\[64,7,7,512\\].conv_general_dilated.\",\n",
    "    r\"a:f32\\[64,1000\\].dot_general.\"\n",
    "]\n",
    "quantized_params = jax_gptq.quantize(apply_model, params, quantization_data, block_size=64, exclude_layers=exclude_layers)"
   ]
  },
  {
   "cell_type": "code",
   "execution_count": 13,
   "metadata": {},
   "outputs": [
    {
     "name": "stdout",
     "output_type": "stream",
     "text": [
      "(64, 224, 224, 3)\n",
      "Batch 1 processed, Batch Accuracy: 0.8125, Total samples: 64\n",
      "(64, 224, 224, 3)\n",
      "Batch 2 processed, Batch Accuracy: 0.9219, Total samples: 128\n",
      "(64, 224, 224, 3)\n",
      "Batch 3 processed, Batch Accuracy: 0.7969, Total samples: 192\n",
      "(64, 224, 224, 3)\n",
      "Batch 4 processed, Batch Accuracy: 0.8438, Total samples: 256\n",
      "(64, 224, 224, 3)\n",
      "Batch 5 processed, Batch Accuracy: 0.8594, Total samples: 320\n",
      "(64, 224, 224, 3)\n",
      "Batch 6 processed, Batch Accuracy: 0.8125, Total samples: 384\n",
      "(64, 224, 224, 3)\n",
      "Batch 7 processed, Batch Accuracy: 0.9531, Total samples: 448\n",
      "(64, 224, 224, 3)\n",
      "Batch 8 processed, Batch Accuracy: 0.9219, Total samples: 512\n",
      "(64, 224, 224, 3)\n",
      "Batch 9 processed, Batch Accuracy: 0.9531, Total samples: 576\n",
      "(64, 224, 224, 3)\n",
      "Batch 10 processed, Batch Accuracy: 0.8750, Total samples: 640\n",
      "\n",
      "Inference completed\n",
      "Overall Accuracy: 0.8750\n"
     ]
    }
   ],
   "source": [
    "from PIL import Image\n",
    "\n",
    "\n",
    "batch_size = 32\n",
    "\n",
    "# TensorFlow 데이터셋을 NumPy 배열로 변환\n",
    "jax_val_dataset\n",
    "\n",
    "batch_count = 0\n",
    "total_processed = 0\n",
    "\n",
    "total_correct = 0\n",
    "total_samples = 0\n",
    "\n",
    "for batch in jax_val_dataset:\n",
    "    # 배치 데이터 추출\n",
    "    images = batch['image']\n",
    "    \n",
    "    labels = batch['label']\n",
    "    \n",
    "    # GPU로 배치 이동\n",
    "    images = jax.device_put(images, gpu)\n",
    "    \n",
    "    print(images.shape)\n",
    "    # print(len(params[\"params\"], len()))\n",
    "    # 모델 적용\n",
    "    outputs = apply_model(params, images)\n",
    "    \n",
    "     # 예측 클래스 계산\n",
    "    predicted_classes = jnp.argmax(outputs, axis=1)\n",
    "    \n",
    "    # 정확도 계산\n",
    "    correct_predictions = jnp.sum(predicted_classes == labels)\n",
    "    total_correct += correct_predictions\n",
    "    total_samples += labels.shape[0]\n",
    "    \n",
    "    # 배치 정확도 계산\n",
    "    batch_accuracy = correct_predictions / labels.shape[0]\n",
    "    \n",
    "    batch_count += 1\n",
    "    print(f\"Batch {batch_count} processed, Batch Accuracy: {batch_accuracy:.4f}, Total samples: {total_samples}\")\n",
    "\n",
    "    #옵션: 특정 수의 배치 후에 중단\n",
    "    if batch_count >= 10:\n",
    "        break\n",
    "\n",
    "# 전체 정확도 계산\n",
    "overall_accuracy = total_correct / total_samples\n",
    "print(f\"\\nInference completed\")\n",
    "print(f\"Overall Accuracy: {overall_accuracy:.4f}\")"
   ]
  },
  {
   "cell_type": "code",
   "execution_count": null,
   "metadata": {},
   "outputs": [
    {
     "name": "stdout",
     "output_type": "stream",
     "text": [
      "(64, 224, 224, 3)\n",
      "Batch 1 processed, Batch Accuracy: 0.4844, Total samples: 64\n",
      "(64, 224, 224, 3)\n",
      "Batch 2 processed, Batch Accuracy: 0.7500, Total samples: 128\n",
      "(64, 224, 224, 3)\n",
      "Batch 3 processed, Batch Accuracy: 0.7188, Total samples: 192\n",
      "(64, 224, 224, 3)\n",
      "Batch 4 processed, Batch Accuracy: 0.7500, Total samples: 256\n",
      "(64, 224, 224, 3)\n",
      "Batch 5 processed, Batch Accuracy: 0.5938, Total samples: 320\n",
      "(64, 224, 224, 3)\n",
      "Batch 6 processed, Batch Accuracy: 0.6406, Total samples: 384\n",
      "(64, 224, 224, 3)\n",
      "Batch 7 processed, Batch Accuracy: 0.5938, Total samples: 448\n",
      "(64, 224, 224, 3)\n",
      "Batch 8 processed, Batch Accuracy: 0.9688, Total samples: 512\n",
      "(64, 224, 224, 3)\n",
      "Batch 9 processed, Batch Accuracy: 0.9062, Total samples: 576\n",
      "(64, 224, 224, 3)\n",
      "Batch 10 processed, Batch Accuracy: 0.7812, Total samples: 640\n",
      "\n",
      "Inference completed\n",
      "Overall Accuracy: 0.7188\n"
     ]
    }
   ],
   "source": [
    "quantized_params = jax.device_put(quantized_params, gpu)\n",
    "quantized_fn = jax_gptq.use_quantized(apply_model)\n",
    "jitted_model = jax.jit(quantized_fn)\n",
    "\n",
    "\n",
    "\n",
    "\n",
    "batch_size = 32\n",
    "\n",
    "# TensorFlow 데이터셋을 NumPy 배열로 변환\n",
    "jax_val_dataset\n",
    "\n",
    "batch_count = 0\n",
    "total_processed = 0\n",
    "\n",
    "total_correct = 0\n",
    "total_samples = 0\n",
    "\n",
    "for batch in jax_val_dataset:\n",
    "    # 배치 데이터 추출\n",
    "    images = batch['image']\n",
    "    \n",
    "    labels = batch['label']\n",
    "    \n",
    "    # GPU로 배치 이동\n",
    "    images = jax.device_put(images, gpu)\n",
    "    \n",
    "    print(images.shape)\n",
    "    # print(len(params[\"params\"], len()))\n",
    "    # 모델 적용\n",
    "    outputs = jitted_model(quantized_params, images)\n",
    "    \n",
    "     # 예측 클래스 계산\n",
    "    predicted_classes = jnp.argmax(outputs, axis=1)\n",
    "    \n",
    "    # 정확도 계산\n",
    "    correct_predictions = jnp.sum(predicted_classes == labels)\n",
    "    total_correct += correct_predictions\n",
    "    total_samples += labels.shape[0]\n",
    "    \n",
    "    # 배치 정확도 계산\n",
    "    batch_accuracy = correct_predictions / labels.shape[0]\n",
    "    \n",
    "    batch_count += 1\n",
    "    print(f\"Batch {batch_count} processed, Batch Accuracy: {batch_accuracy:.4f}, Total samples: {total_samples}\")\n",
    "\n",
    "    #옵션: 특정 수의 배치 후에 중단\n",
    "    if batch_count >= 10:\n",
    "        break\n",
    "\n",
    "# 전체 정확도 계산\n",
    "overall_accuracy = total_correct / total_samples\n",
    "print(f\"\\nInference completed\")\n",
    "print(f\"Overall Accuracy: {overall_accuracy:.4f}\")"
   ]
  },
  {
   "cell_type": "code",
   "execution_count": null,
   "metadata": {},
   "outputs": [
    {
     "name": "stdout",
     "output_type": "stream",
     "text": [
      "Original params size: 102.44 MB\n",
      "Quantized params size: 53.01 MB\n",
      "Compression ratio: 1.93x\n"
     ]
    }
   ],
   "source": [
    "import jax.numpy as jnp\n",
    "\n",
    "def get_params_size(params):\n",
    "    total_size = 0\n",
    "    for param in jax.tree_util.tree_leaves(params):\n",
    "        total_size += param.size * param.dtype.itemsize\n",
    "    return total_size\n",
    "\n",
    "original_size = get_params_size(params)\n",
    "quantized_size = get_params_size(quantized_params)\n",
    "\n",
    "print(f\"Original params size: {original_size / 1e6:.2f} MB\")\n",
    "print(f\"Quantized params size: {quantized_size / 1e6:.2f} MB\")\n",
    "print(f\"Compression ratio: {original_size / quantized_size:.2f}x\")"
   ]
  },
  {
   "cell_type": "code",
   "execution_count": 15,
   "metadata": {},
   "outputs": [
    {
     "name": "stdout",
     "output_type": "stream",
     "text": [
      "Original model average inference time: 200.82 ms\n",
      "Quantized model average inference time: 218.03 ms\n",
      "Speedup: 0.92x\n"
     ]
    }
   ],
   "source": [
    "import time\n",
    "import jax\n",
    "import jax.numpy as jnp\n",
    "\n",
    "def time_inference(model_fn, params, input_data, num_runs=100):\n",
    "    # 워밍업 실행\n",
    "    for _ in range(5):\n",
    "        _ = model_fn(params, input_data)\n",
    "    \n",
    "    # 메인 타이밍 루프\n",
    "    start_time = time.time()\n",
    "    for _ in range(num_runs):\n",
    "        _ = model_fn(params, input_data)\n",
    "    end_time = time.time()\n",
    "    \n",
    "    avg_time = (end_time - start_time) / num_runs\n",
    "    return avg_time\n",
    "\n",
    "# 샘플 입력 데이터 준비\n",
    "sample_batch = next(iter(jax_val_dataset))\n",
    "sample_images = jax.device_put(sample_batch['image'], gpu)\n",
    "# 원본 모델 함수\n",
    "original_fn = jax.jit(apply_model)\n",
    "\n",
    "# 양자화된 모델 함수\n",
    "quantized_fn = jax.jit(jax_gptq.use_quantized(apply_model))\n",
    "\n",
    "# 원본 모델 추론 시간 측정\n",
    "original_time = time_inference(original_fn, params, sample_images)\n",
    "\n",
    "# 양자화된 모델 추론 시간 측정\n",
    "quantized_time = time_inference(quantized_fn, quantized_params, sample_images)\n",
    "\n",
    "print(f\"Original model average inference time: {original_time*1000:.2f} ms\")\n",
    "print(f\"Quantized model average inference time: {quantized_time*1000:.2f} ms\")\n",
    "print(f\"Speedup: {original_time/quantized_time:.2f}x\")"
   ]
  },
  {
   "cell_type": "code",
   "execution_count": null,
   "metadata": {},
   "outputs": [],
   "source": []
  }
 ],
 "metadata": {
  "accelerator": "GPU",
  "colab": {
   "collapsed_sections": [
    "0Y6JeyF45yd_"
   ],
   "gpuType": "T4",
   "provenance": []
  },
  "gpuClass": "standard",
  "kernelspec": {
   "display_name": "Python 3 (ipykernel)",
   "language": "python",
   "name": "python3"
  },
  "language_info": {
   "codemirror_mode": {
    "name": "ipython",
    "version": 3
   },
   "file_extension": ".py",
   "mimetype": "text/x-python",
   "name": "python",
   "nbconvert_exporter": "python",
   "pygments_lexer": "ipython3",
   "version": "3.12.4"
  }
 },
 "nbformat": 4,
 "nbformat_minor": 1
}
